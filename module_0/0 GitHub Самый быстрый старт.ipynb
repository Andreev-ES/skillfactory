{
 "cells": [
  {
   "cell_type": "markdown",
   "metadata": {},
   "source": [
    "# Оптимизировання мной функия в которой заложен механизм угадывания загаданного числа\n",
    "> Допустим загаданное число ==32. 32 это меньше чем изначально установленная медиана, 32<50\n",
    "\n",
    "> Изменяем наше максиальное значение равное 100 на 50, таким образом сразу отсекаем все числа от 50 до 100 и т.д пока не угадаем   наще число+\n",
    "\n",
    "> Чем-то похоже на работу индекса\n"
   ]
  },
  {
   "cell_type": "code",
   "execution_count": 63,
   "metadata": {},
   "outputs": [],
   "source": [
    "import numpy as np\n",
    "\n",
    "def game_core(number):\n",
    "    #Устанавливаем количество попыток в начало равное 1\n",
    "    #Обозначем минимальное и максимальное значение диапазона, а также изначальное значение медиаыны\n",
    "    count = 1\n",
    "    min_val = 1\n",
    "    max_val = 101 #Maximum==101, т.к в случае загаданного числа ==100 поиск не закончится!!\n",
    "    mediana_val = 50\n",
    "\n",
    "    while number!=mediana_val:\n",
    "        \n",
    "        count+=1 # увеличиваем кол-во попыток\n",
    "        ''' В зависимости от того больше или меньше медиана, чем загаданное сило изменяем минимальное или максимальное \n",
    "            значение'''\n",
    "        if mediana_val<number:\n",
    "            min_val = mediana_val\n",
    "\n",
    "        elif mediana_val>number:\n",
    "            max_val = mediana_val\n",
    "        '''расчитыаем медиану'''    \n",
    "        mediana_val = (max_val + min_val)//2\n",
    "\n",
    "    return(count) # выход из цикла, если угадали"
   ]
  },
  {
   "cell_type": "markdown",
   "metadata": {},
   "source": [
    "# Функция, которая генирит случайные числа, которые машина должна угадать:"
   ]
  },
  {
   "cell_type": "code",
   "execution_count": null,
   "metadata": {
    "collapsed": true
   },
   "outputs": [],
   "source": [
    "def score_game(game_core):\n",
    "    '''Запускаем игру 1000 раз, чтобы узнать, как быстро игра угадывает число'''\n",
    "    count_ls = []\n",
    "    np.random.seed(1)  # фиксируем RANDOM SEED, чтобы ваш эксперимент был воспроизводим!\n",
    "    random_array = np.random.randint(1,101, size=(1000))\n",
    "    \n",
    "    for number in random_array:\n",
    "        count_ls.append(game_core(number))\n",
    "    score = int(np.mean(count_ls))\n",
    "    \n",
    "    print(f\"Ваш алгоритм угадывает число в среднем за {score} попыток\")\n",
    "    \n",
    "    return(score)"
   ]
  },
  {
   "cell_type": "code",
   "execution_count": 64,
   "metadata": {},
   "outputs": [
    {
     "name": "stdout",
     "output_type": "stream",
     "text": [
      "Ваш алгоритм угадывает число в среднем за 5 попыток\n"
     ]
    },
    {
     "data": {
      "text/plain": [
       "5"
      ]
     },
     "execution_count": 64,
     "metadata": {},
     "output_type": "execute_result"
    }
   ],
   "source": [
    "#запуск поиска числа:\n",
    "score_game(game_core)"
   ]
  }
 ],
 "metadata": {
  "kernelspec": {
   "display_name": "Python 3",
   "language": "python",
   "name": "python3"
  },
  "language_info": {
   "codemirror_mode": {
    "name": "ipython",
    "version": 3
   },
   "file_extension": ".py",
   "mimetype": "text/x-python",
   "name": "python",
   "nbconvert_exporter": "python",
   "pygments_lexer": "ipython3",
   "version": "3.6.1"
  }
 },
 "nbformat": 4,
 "nbformat_minor": 2
}
