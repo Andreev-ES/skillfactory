{
 "cells": [
  {
   "cell_type": "code",
   "execution_count": 1,
   "metadata": {},
   "outputs": [
    {
     "ename": "SyntaxError",
     "evalue": "invalid syntax (<ipython-input-1-7f915a18b9a7>, line 4)",
     "output_type": "error",
     "traceback": [
      "\u001b[0;36m  File \u001b[0;32m\"<ipython-input-1-7f915a18b9a7>\"\u001b[0;36m, line \u001b[0;32m4\u001b[0m\n\u001b[0;31m    **По ходу задачи:**\u001b[0m\n\u001b[0m     ^\u001b[0m\n\u001b[0;31mSyntaxError\u001b[0m\u001b[0;31m:\u001b[0m invalid syntax\n"
     ]
    }
   ],
   "source": [
    "![](https://www.pata.org/wp-content/uploads/2014/09/TripAdvisor_Logo-300x119.png)\n",
    "# Predict TripAdvisor Rating\n",
    "## В этом соревновании нам предстоит предсказать рейтинг ресторана в TripAdvisor\n",
    "**По ходу задачи:**\n",
    "* Прокачаем работу с pandas\n",
    "* Научимся работать с Kaggle Notebooks\n",
    "* Поймем как делать предобработку различных данных\n",
    "* Научимся работать с пропущенными данными (Nan)\n",
    "* Познакомимся с различными видами кодирования признаков\n",
    "* Немного попробуем [Feature Engineering](https://ru.wikipedia.org/wiki/Конструирование_признаков) (генерировать новые признаки)\n",
    "* И совсем немного затронем ML\n",
    "* И многое другое...   \n",
    "\n",
    "\n",
    "\n",
    "### И самое важное, все это вы сможете сделать самостоятельно!\n",
    "\n",
    "*Этот Ноутбук являетсся Примером/Шаблоном к этому соревнованию (Baseline) и не служит готовым решением!*   \n",
    "Вы можете использовать его как основу для построения своего решения.\n",
    "\n",
    "> что такое baseline решение, зачем оно нужно и почему предоставлять baseline к соревнованию стало важным стандартом на kaggle и других площадках.   \n",
    "**baseline** создается больше как шаблон, где можно посмотреть как происходит обращение с входящими данными и что нужно получить на выходе. При этом МЛ начинка может быть достаточно простой, просто для примера. Это помогает быстрее приступить к самому МЛ, а не тратить ценное время на чисто инженерные задачи. \n",
    "Также baseline являеться хорошей опорной точкой по метрике. Если твое решение хуже baseline - ты явно делаешь что-то не то и стоит попробовать другой путь) \n",
    "\n",
    "В контексте нашего соревнования baseline идет с небольшими примерами того, что можно делать с данными, и с инструкцией, что делать дальше, чтобы улучшить результат.  Вообще готовым решением это сложно назвать, так как используются всего 2 самых простых признака (а остальные исключаются)."
   ]
  },
  {
   "cell_type": "markdown",
   "metadata": {},
   "source": [
    "### **Проект 3. О вкусной и здоровой пище**\n",
    "\n",
    "#### **Опиание проекта**\n",
    "\n",
    "Представьте, что вы работаете DS в компании TripAdvisor. Одна из проблем компании — это нечестные рестораны, которые накручивают себе рейтинг. Одним из способов нахождения таких ресторанов является построение модели, которая предсказывает рейтинг ресторана. Если предсказания модели сильно отличаются от фактического результата, то, возможно, ресторан играет нечестно, и его стоит проверить.\n",
    "\n",
    "#### **Основные цели и задачи проекта:**\n",
    "\n",
    "* разобраться с подробным описанием того, как будет организовано изучение модуля;\n",
    "\n",
    "* зарегистрироваться в соревновании на kaggle;\n",
    "\n",
    "* проанализировать baseline к соревнованию;\n",
    "\n",
    "* следуя подсказкам в модуле, обработать оставшиеся признаки и подготовить собственное решение;\n",
    "\n",
    "* победить в соревновании\n"
   ]
  },
  {
   "cell_type": "markdown",
   "metadata": {},
   "source": [
    "### **Импортируем данные:**"
   ]
  },
  {
   "cell_type": "code",
   "execution_count": 2,
   "metadata": {
    "_cell_guid": "b1076dfc-b9ad-4769-8c92-a6c4dae69d19",
    "_uuid": "8f2839f25d086af736a60e9eeb907d3b93b6e0e5",
    "execution": {
     "iopub.execute_input": "2021-05-29T22:41:45.261172Z",
     "iopub.status.busy": "2021-05-29T22:41:45.260816Z",
     "iopub.status.idle": "2021-05-29T22:41:48.290068Z",
     "shell.execute_reply": "2021-05-29T22:41:48.288995Z",
     "shell.execute_reply.started": "2021-05-29T22:41:45.261111Z"
    }
   },
   "outputs": [
    {
     "name": "stdout",
     "output_type": "stream",
     "text": [
      "/kaggle/input/sf-dst-restaurant-rating/sample_submission.csv\n",
      "/kaggle/input/sf-dst-restaurant-rating/main_task.csv\n",
      "/kaggle/input/sf-dst-restaurant-rating/kaggle_task.csv\n"
     ]
    }
   ],
   "source": [
    "# This Python 3 environment comes with many helpful analytics libraries installed\n",
    "# It is defined by the kaggle/python docker image: https://github.com/kaggle/docker-python\n",
    "# For example, here's several helpful packages to load in \n",
    "\n",
    "import numpy as np # linear algebra\n",
    "import pandas as pd # data processing, CSV file I/O (e.g. pd.read_csv)\n",
    "\n",
    "import matplotlib.pyplot as plt\n",
    "import seaborn as sns \n",
    "%matplotlib inline\n",
    "\n",
    "# Загружаем специальный удобный инструмент для разделения датасета:\n",
    "from sklearn.model_selection import train_test_split\n",
    "\n",
    "# Input data files are available in the \"../input/\" directory.\n",
    "# For example, running this (by clicking run or pressing Shift+Enter) will list all files under the input directory\n",
    "\n",
    "import os\n",
    "for dirname, _, filenames in os.walk('/kaggle/input'):\n",
    "    for filename in filenames:\n",
    "        print(os.path.join(dirname, filename))\n",
    "\n",
    "# Any results you write to the current directory are saved as output."
   ]
  },
  {
   "cell_type": "code",
   "execution_count": 3,
   "metadata": {
    "execution": {
     "iopub.execute_input": "2021-05-29T22:41:49.871231Z",
     "iopub.status.busy": "2021-05-29T22:41:49.870887Z",
     "iopub.status.idle": "2021-05-29T22:41:49.875126Z",
     "shell.execute_reply": "2021-05-29T22:41:49.873947Z",
     "shell.execute_reply.started": "2021-05-29T22:41:49.871182Z"
    }
   },
   "outputs": [],
   "source": [
    "# всегда фиксируйте RANDOM_SEED, чтобы ваши эксперименты были воспроизводимы!\n",
    "RANDOM_SEED = 42"
   ]
  },
  {
   "cell_type": "code",
   "execution_count": 4,
   "metadata": {
    "execution": {
     "iopub.execute_input": "2021-05-29T22:41:51.795540Z",
     "iopub.status.busy": "2021-05-29T22:41:51.795159Z",
     "iopub.status.idle": "2021-05-29T22:41:55.138887Z",
     "shell.execute_reply": "2021-05-29T22:41:55.137732Z",
     "shell.execute_reply.started": "2021-05-29T22:41:51.795459Z"
    }
   },
   "outputs": [],
   "source": [
    "# зафиксируем версию пакетов, чтобы эксперименты были воспроизводимы:\n",
    "!pip freeze > requirements.txt"
   ]
  },
  {
   "cell_type": "markdown",
   "metadata": {},
   "source": [
    "# **DATA**"
   ]
  },
  {
   "cell_type": "code",
   "execution_count": 5,
   "metadata": {
    "_cell_guid": "79c7e3d0-c299-4dcb-8224-4455121ee9b0",
    "_uuid": "d629ff2d2480ee46fbb7e2d37f6b5fab8052498a",
    "execution": {
     "iopub.execute_input": "2021-05-29T22:41:55.141665Z",
     "iopub.status.busy": "2021-05-29T22:41:55.141271Z",
     "iopub.status.idle": "2021-05-29T22:41:55.524372Z",
     "shell.execute_reply": "2021-05-29T22:41:55.523611Z",
     "shell.execute_reply.started": "2021-05-29T22:41:55.141595Z"
    }
   },
   "outputs": [],
   "source": [
    "DATA_DIR = '/kaggle/input/sf-dst-restaurant-rating/'\n",
    "df_train = pd.read_csv(DATA_DIR+'/main_task.csv')\n",
    "df_test = pd.read_csv(DATA_DIR+'kaggle_task.csv')\n",
    "sample_submission = pd.read_csv(DATA_DIR+'/sample_submission.csv')"
   ]
  },
  {
   "cell_type": "code",
   "execution_count": 6,
   "metadata": {
    "execution": {
     "iopub.execute_input": "2021-05-29T22:41:56.534357Z",
     "iopub.status.busy": "2021-05-29T22:41:56.534033Z",
     "iopub.status.idle": "2021-05-29T22:41:56.578415Z",
     "shell.execute_reply": "2021-05-29T22:41:56.577719Z",
     "shell.execute_reply.started": "2021-05-29T22:41:56.534303Z"
    }
   },
   "outputs": [
    {
     "name": "stdout",
     "output_type": "stream",
     "text": [
      "<class 'pandas.core.frame.DataFrame'>\n",
      "RangeIndex: 40000 entries, 0 to 39999\n",
      "Data columns (total 10 columns):\n",
      "Restaurant_id        40000 non-null object\n",
      "City                 40000 non-null object\n",
      "Cuisine Style        30717 non-null object\n",
      "Ranking              40000 non-null float64\n",
      "Rating               40000 non-null float64\n",
      "Price Range          26114 non-null object\n",
      "Number of Reviews    37457 non-null float64\n",
      "Reviews              40000 non-null object\n",
      "URL_TA               40000 non-null object\n",
      "ID_TA                40000 non-null object\n",
      "dtypes: float64(3), object(7)\n",
      "memory usage: 3.1+ MB\n"
     ]
    }
   ],
   "source": [
    "df_train.info()"
   ]
  },
  {
   "cell_type": "code",
   "execution_count": 7,
   "metadata": {
    "execution": {
     "iopub.execute_input": "2021-05-29T22:42:00.095952Z",
     "iopub.status.busy": "2021-05-29T22:42:00.095618Z",
     "iopub.status.idle": "2021-05-29T22:42:00.126382Z",
     "shell.execute_reply": "2021-05-29T22:42:00.125325Z",
     "shell.execute_reply.started": "2021-05-29T22:42:00.095905Z"
    }
   },
   "outputs": [
    {
     "data": {
      "text/html": [
       "<div>\n",
       "<style scoped>\n",
       "    .dataframe tbody tr th:only-of-type {\n",
       "        vertical-align: middle;\n",
       "    }\n",
       "\n",
       "    .dataframe tbody tr th {\n",
       "        vertical-align: top;\n",
       "    }\n",
       "\n",
       "    .dataframe thead th {\n",
       "        text-align: right;\n",
       "    }\n",
       "</style>\n",
       "<table border=\"1\" class=\"dataframe\">\n",
       "  <thead>\n",
       "    <tr style=\"text-align: right;\">\n",
       "      <th></th>\n",
       "      <th>Restaurant_id</th>\n",
       "      <th>City</th>\n",
       "      <th>Cuisine Style</th>\n",
       "      <th>Ranking</th>\n",
       "      <th>Rating</th>\n",
       "      <th>Price Range</th>\n",
       "      <th>Number of Reviews</th>\n",
       "      <th>Reviews</th>\n",
       "      <th>URL_TA</th>\n",
       "      <th>ID_TA</th>\n",
       "    </tr>\n",
       "  </thead>\n",
       "  <tbody>\n",
       "    <tr>\n",
       "      <th>0</th>\n",
       "      <td>id_5569</td>\n",
       "      <td>Paris</td>\n",
       "      <td>['European', 'French', 'International']</td>\n",
       "      <td>5570.0</td>\n",
       "      <td>3.5</td>\n",
       "      <td>$$ - $$$</td>\n",
       "      <td>194.0</td>\n",
       "      <td>[['Good food at your doorstep', 'A good hotel ...</td>\n",
       "      <td>/Restaurant_Review-g187147-d1912643-Reviews-R_...</td>\n",
       "      <td>d1912643</td>\n",
       "    </tr>\n",
       "    <tr>\n",
       "      <th>1</th>\n",
       "      <td>id_1535</td>\n",
       "      <td>Stockholm</td>\n",
       "      <td>NaN</td>\n",
       "      <td>1537.0</td>\n",
       "      <td>4.0</td>\n",
       "      <td>NaN</td>\n",
       "      <td>10.0</td>\n",
       "      <td>[['Unique cuisine', 'Delicious Nepalese food']...</td>\n",
       "      <td>/Restaurant_Review-g189852-d7992032-Reviews-Bu...</td>\n",
       "      <td>d7992032</td>\n",
       "    </tr>\n",
       "    <tr>\n",
       "      <th>2</th>\n",
       "      <td>id_352</td>\n",
       "      <td>London</td>\n",
       "      <td>['Japanese', 'Sushi', 'Asian', 'Grill', 'Veget...</td>\n",
       "      <td>353.0</td>\n",
       "      <td>4.5</td>\n",
       "      <td>$$$$</td>\n",
       "      <td>688.0</td>\n",
       "      <td>[['Catch up with friends', 'Not exceptional'],...</td>\n",
       "      <td>/Restaurant_Review-g186338-d8632781-Reviews-RO...</td>\n",
       "      <td>d8632781</td>\n",
       "    </tr>\n",
       "    <tr>\n",
       "      <th>3</th>\n",
       "      <td>id_3456</td>\n",
       "      <td>Berlin</td>\n",
       "      <td>NaN</td>\n",
       "      <td>3458.0</td>\n",
       "      <td>5.0</td>\n",
       "      <td>NaN</td>\n",
       "      <td>3.0</td>\n",
       "      <td>[[], []]</td>\n",
       "      <td>/Restaurant_Review-g187323-d1358776-Reviews-Es...</td>\n",
       "      <td>d1358776</td>\n",
       "    </tr>\n",
       "    <tr>\n",
       "      <th>4</th>\n",
       "      <td>id_615</td>\n",
       "      <td>Munich</td>\n",
       "      <td>['German', 'Central European', 'Vegetarian Fri...</td>\n",
       "      <td>621.0</td>\n",
       "      <td>4.0</td>\n",
       "      <td>$$ - $$$</td>\n",
       "      <td>84.0</td>\n",
       "      <td>[['Best place to try a Bavarian food', 'Nice b...</td>\n",
       "      <td>/Restaurant_Review-g187309-d6864963-Reviews-Au...</td>\n",
       "      <td>d6864963</td>\n",
       "    </tr>\n",
       "  </tbody>\n",
       "</table>\n",
       "</div>"
      ],
      "text/plain": [
       "  Restaurant_id       City                                      Cuisine Style  \\\n",
       "0       id_5569      Paris            ['European', 'French', 'International']   \n",
       "1       id_1535  Stockholm                                                NaN   \n",
       "2        id_352     London  ['Japanese', 'Sushi', 'Asian', 'Grill', 'Veget...   \n",
       "3       id_3456     Berlin                                                NaN   \n",
       "4        id_615     Munich  ['German', 'Central European', 'Vegetarian Fri...   \n",
       "\n",
       "   Ranking  Rating Price Range  Number of Reviews  \\\n",
       "0   5570.0     3.5    $$ - $$$              194.0   \n",
       "1   1537.0     4.0         NaN               10.0   \n",
       "2    353.0     4.5        $$$$              688.0   \n",
       "3   3458.0     5.0         NaN                3.0   \n",
       "4    621.0     4.0    $$ - $$$               84.0   \n",
       "\n",
       "                                             Reviews  \\\n",
       "0  [['Good food at your doorstep', 'A good hotel ...   \n",
       "1  [['Unique cuisine', 'Delicious Nepalese food']...   \n",
       "2  [['Catch up with friends', 'Not exceptional'],...   \n",
       "3                                           [[], []]   \n",
       "4  [['Best place to try a Bavarian food', 'Nice b...   \n",
       "\n",
       "                                              URL_TA     ID_TA  \n",
       "0  /Restaurant_Review-g187147-d1912643-Reviews-R_...  d1912643  \n",
       "1  /Restaurant_Review-g189852-d7992032-Reviews-Bu...  d7992032  \n",
       "2  /Restaurant_Review-g186338-d8632781-Reviews-RO...  d8632781  \n",
       "3  /Restaurant_Review-g187323-d1358776-Reviews-Es...  d1358776  \n",
       "4  /Restaurant_Review-g187309-d6864963-Reviews-Au...  d6864963  "
      ]
     },
     "execution_count": 7,
     "metadata": {},
     "output_type": "execute_result"
    }
   ],
   "source": [
    "df_train.head(5)"
   ]
  },
  {
   "cell_type": "code",
   "execution_count": 8,
   "metadata": {
    "execution": {
     "iopub.execute_input": "2021-05-29T22:42:03.022620Z",
     "iopub.status.busy": "2021-05-29T22:42:03.022235Z",
     "iopub.status.idle": "2021-05-29T22:42:03.044739Z",
     "shell.execute_reply": "2021-05-29T22:42:03.041813Z",
     "shell.execute_reply.started": "2021-05-29T22:42:03.022555Z"
    }
   },
   "outputs": [
    {
     "name": "stdout",
     "output_type": "stream",
     "text": [
      "<class 'pandas.core.frame.DataFrame'>\n",
      "RangeIndex: 10000 entries, 0 to 9999\n",
      "Data columns (total 9 columns):\n",
      "Restaurant_id        10000 non-null object\n",
      "City                 10000 non-null object\n",
      "Cuisine Style        7693 non-null object\n",
      "Ranking              10000 non-null float64\n",
      "Price Range          6525 non-null object\n",
      "Number of Reviews    9343 non-null float64\n",
      "Reviews              9998 non-null object\n",
      "URL_TA               10000 non-null object\n",
      "ID_TA                10000 non-null object\n",
      "dtypes: float64(2), object(7)\n",
      "memory usage: 703.2+ KB\n"
     ]
    }
   ],
   "source": [
    "df_test.info()"
   ]
  },
  {
   "cell_type": "code",
   "execution_count": 9,
   "metadata": {
    "execution": {
     "iopub.execute_input": "2021-05-29T22:42:05.384306Z",
     "iopub.status.busy": "2021-05-29T22:42:05.383986Z",
     "iopub.status.idle": "2021-05-29T22:42:05.400895Z",
     "shell.execute_reply": "2021-05-29T22:42:05.400148Z",
     "shell.execute_reply.started": "2021-05-29T22:42:05.384244Z"
    }
   },
   "outputs": [
    {
     "data": {
      "text/html": [
       "<div>\n",
       "<style scoped>\n",
       "    .dataframe tbody tr th:only-of-type {\n",
       "        vertical-align: middle;\n",
       "    }\n",
       "\n",
       "    .dataframe tbody tr th {\n",
       "        vertical-align: top;\n",
       "    }\n",
       "\n",
       "    .dataframe thead th {\n",
       "        text-align: right;\n",
       "    }\n",
       "</style>\n",
       "<table border=\"1\" class=\"dataframe\">\n",
       "  <thead>\n",
       "    <tr style=\"text-align: right;\">\n",
       "      <th></th>\n",
       "      <th>Restaurant_id</th>\n",
       "      <th>City</th>\n",
       "      <th>Cuisine Style</th>\n",
       "      <th>Ranking</th>\n",
       "      <th>Price Range</th>\n",
       "      <th>Number of Reviews</th>\n",
       "      <th>Reviews</th>\n",
       "      <th>URL_TA</th>\n",
       "      <th>ID_TA</th>\n",
       "    </tr>\n",
       "  </thead>\n",
       "  <tbody>\n",
       "    <tr>\n",
       "      <th>0</th>\n",
       "      <td>id_0</td>\n",
       "      <td>Paris</td>\n",
       "      <td>['Bar', 'Pub']</td>\n",
       "      <td>12963.0</td>\n",
       "      <td>$$ - $$$</td>\n",
       "      <td>4.0</td>\n",
       "      <td>[[], []]</td>\n",
       "      <td>/Restaurant_Review-g187147-d10746918-Reviews-L...</td>\n",
       "      <td>d10746918</td>\n",
       "    </tr>\n",
       "    <tr>\n",
       "      <th>1</th>\n",
       "      <td>id_1</td>\n",
       "      <td>Helsinki</td>\n",
       "      <td>['European', 'Scandinavian', 'Gluten Free Opti...</td>\n",
       "      <td>106.0</td>\n",
       "      <td>$$ - $$$</td>\n",
       "      <td>97.0</td>\n",
       "      <td>[['Very good reviews!', 'Fine dining in Hakani...</td>\n",
       "      <td>/Restaurant_Review-g189934-d6674944-Reviews-Ra...</td>\n",
       "      <td>d6674944</td>\n",
       "    </tr>\n",
       "    <tr>\n",
       "      <th>2</th>\n",
       "      <td>id_2</td>\n",
       "      <td>Edinburgh</td>\n",
       "      <td>['Vegetarian Friendly']</td>\n",
       "      <td>810.0</td>\n",
       "      <td>$$ - $$$</td>\n",
       "      <td>28.0</td>\n",
       "      <td>[['Better than the Links', 'Ivy Black'], ['12/...</td>\n",
       "      <td>/Restaurant_Review-g186525-d13129638-Reviews-B...</td>\n",
       "      <td>d13129638</td>\n",
       "    </tr>\n",
       "    <tr>\n",
       "      <th>3</th>\n",
       "      <td>id_3</td>\n",
       "      <td>London</td>\n",
       "      <td>['Italian', 'Mediterranean', 'European', 'Vege...</td>\n",
       "      <td>1669.0</td>\n",
       "      <td>$$$$</td>\n",
       "      <td>202.0</td>\n",
       "      <td>[['Most exquisite', 'Delicious and authentic']...</td>\n",
       "      <td>/Restaurant_Review-g186338-d680417-Reviews-Qui...</td>\n",
       "      <td>d680417</td>\n",
       "    </tr>\n",
       "    <tr>\n",
       "      <th>4</th>\n",
       "      <td>id_4</td>\n",
       "      <td>Bratislava</td>\n",
       "      <td>['Italian', 'Mediterranean', 'European', 'Seaf...</td>\n",
       "      <td>37.0</td>\n",
       "      <td>$$$$</td>\n",
       "      <td>162.0</td>\n",
       "      <td>[['Always the best in bratislava', 'Very good ...</td>\n",
       "      <td>/Restaurant_Review-g274924-d1112354-Reviews-Ma...</td>\n",
       "      <td>d1112354</td>\n",
       "    </tr>\n",
       "  </tbody>\n",
       "</table>\n",
       "</div>"
      ],
      "text/plain": [
       "  Restaurant_id        City  \\\n",
       "0          id_0       Paris   \n",
       "1          id_1    Helsinki   \n",
       "2          id_2   Edinburgh   \n",
       "3          id_3      London   \n",
       "4          id_4  Bratislava   \n",
       "\n",
       "                                       Cuisine Style  Ranking Price Range  \\\n",
       "0                                     ['Bar', 'Pub']  12963.0    $$ - $$$   \n",
       "1  ['European', 'Scandinavian', 'Gluten Free Opti...    106.0    $$ - $$$   \n",
       "2                            ['Vegetarian Friendly']    810.0    $$ - $$$   \n",
       "3  ['Italian', 'Mediterranean', 'European', 'Vege...   1669.0        $$$$   \n",
       "4  ['Italian', 'Mediterranean', 'European', 'Seaf...     37.0        $$$$   \n",
       "\n",
       "   Number of Reviews                                            Reviews  \\\n",
       "0                4.0                                           [[], []]   \n",
       "1               97.0  [['Very good reviews!', 'Fine dining in Hakani...   \n",
       "2               28.0  [['Better than the Links', 'Ivy Black'], ['12/...   \n",
       "3              202.0  [['Most exquisite', 'Delicious and authentic']...   \n",
       "4              162.0  [['Always the best in bratislava', 'Very good ...   \n",
       "\n",
       "                                              URL_TA      ID_TA  \n",
       "0  /Restaurant_Review-g187147-d10746918-Reviews-L...  d10746918  \n",
       "1  /Restaurant_Review-g189934-d6674944-Reviews-Ra...   d6674944  \n",
       "2  /Restaurant_Review-g186525-d13129638-Reviews-B...  d13129638  \n",
       "3  /Restaurant_Review-g186338-d680417-Reviews-Qui...    d680417  \n",
       "4  /Restaurant_Review-g274924-d1112354-Reviews-Ma...   d1112354  "
      ]
     },
     "execution_count": 9,
     "metadata": {},
     "output_type": "execute_result"
    }
   ],
   "source": [
    "df_test.head(5)"
   ]
  },
  {
   "cell_type": "code",
   "execution_count": 10,
   "metadata": {
    "execution": {
     "iopub.execute_input": "2021-05-29T22:42:07.449478Z",
     "iopub.status.busy": "2021-05-29T22:42:07.449086Z",
     "iopub.status.idle": "2021-05-29T22:42:07.460266Z",
     "shell.execute_reply": "2021-05-29T22:42:07.459379Z",
     "shell.execute_reply.started": "2021-05-29T22:42:07.449403Z"
    }
   },
   "outputs": [
    {
     "data": {
      "text/html": [
       "<div>\n",
       "<style scoped>\n",
       "    .dataframe tbody tr th:only-of-type {\n",
       "        vertical-align: middle;\n",
       "    }\n",
       "\n",
       "    .dataframe tbody tr th {\n",
       "        vertical-align: top;\n",
       "    }\n",
       "\n",
       "    .dataframe thead th {\n",
       "        text-align: right;\n",
       "    }\n",
       "</style>\n",
       "<table border=\"1\" class=\"dataframe\">\n",
       "  <thead>\n",
       "    <tr style=\"text-align: right;\">\n",
       "      <th></th>\n",
       "      <th>Restaurant_id</th>\n",
       "      <th>Rating</th>\n",
       "    </tr>\n",
       "  </thead>\n",
       "  <tbody>\n",
       "    <tr>\n",
       "      <th>0</th>\n",
       "      <td>id_0</td>\n",
       "      <td>2.0</td>\n",
       "    </tr>\n",
       "    <tr>\n",
       "      <th>1</th>\n",
       "      <td>id_1</td>\n",
       "      <td>2.5</td>\n",
       "    </tr>\n",
       "    <tr>\n",
       "      <th>2</th>\n",
       "      <td>id_2</td>\n",
       "      <td>4.0</td>\n",
       "    </tr>\n",
       "    <tr>\n",
       "      <th>3</th>\n",
       "      <td>id_3</td>\n",
       "      <td>1.0</td>\n",
       "    </tr>\n",
       "    <tr>\n",
       "      <th>4</th>\n",
       "      <td>id_4</td>\n",
       "      <td>4.0</td>\n",
       "    </tr>\n",
       "  </tbody>\n",
       "</table>\n",
       "</div>"
      ],
      "text/plain": [
       "  Restaurant_id  Rating\n",
       "0          id_0     2.0\n",
       "1          id_1     2.5\n",
       "2          id_2     4.0\n",
       "3          id_3     1.0\n",
       "4          id_4     4.0"
      ]
     },
     "execution_count": 10,
     "metadata": {},
     "output_type": "execute_result"
    }
   ],
   "source": [
    "sample_submission.head(5)"
   ]
  },
  {
   "cell_type": "code",
   "execution_count": 11,
   "metadata": {
    "execution": {
     "iopub.execute_input": "2021-05-29T22:42:10.059564Z",
     "iopub.status.busy": "2021-05-29T22:42:10.059253Z",
     "iopub.status.idle": "2021-05-29T22:42:10.068799Z",
     "shell.execute_reply": "2021-05-29T22:42:10.067755Z",
     "shell.execute_reply.started": "2021-05-29T22:42:10.059518Z"
    }
   },
   "outputs": [
    {
     "name": "stdout",
     "output_type": "stream",
     "text": [
      "<class 'pandas.core.frame.DataFrame'>\n",
      "RangeIndex: 10000 entries, 0 to 9999\n",
      "Data columns (total 2 columns):\n",
      "Restaurant_id    10000 non-null object\n",
      "Rating           10000 non-null float64\n",
      "dtypes: float64(1), object(1)\n",
      "memory usage: 156.4+ KB\n"
     ]
    }
   ],
   "source": [
    "sample_submission.info()"
   ]
  },
  {
   "cell_type": "code",
   "execution_count": 12,
   "metadata": {
    "execution": {
     "iopub.execute_input": "2021-05-29T22:42:17.535712Z",
     "iopub.status.busy": "2021-05-29T22:42:17.535371Z",
     "iopub.status.idle": "2021-05-29T22:42:17.590932Z",
     "shell.execute_reply": "2021-05-29T22:42:17.590023Z",
     "shell.execute_reply.started": "2021-05-29T22:42:17.535662Z"
    }
   },
   "outputs": [],
   "source": [
    "# ВАЖНО! дря корректной обработки признаков объединяем трейн и тест в один датасет\n",
    "df_train['sample'] = 1 # помечаем где у нас трейн\n",
    "df_test['sample'] = 0 # помечаем где у нас тест\n",
    "df_test['Rating'] = 0 # в тесте у нас нет значения Rating, мы его должны предсказать, по этому пока просто заполняем нулями\n",
    "\n",
    "data = df_test.append(df_train, sort=False).reset_index(drop=True) # объединяем\n"
   ]
  },
  {
   "cell_type": "code",
   "execution_count": 13,
   "metadata": {
    "execution": {
     "iopub.execute_input": "2021-05-29T11:53:00.302537Z",
     "iopub.status.busy": "2021-05-29T11:53:00.302046Z",
     "iopub.status.idle": "2021-05-29T11:53:00.3466Z",
     "shell.execute_reply": "2021-05-29T11:53:00.345528Z",
     "shell.execute_reply.started": "2021-05-29T11:53:00.302492Z"
    }
   },
   "outputs": [
    {
     "name": "stdout",
     "output_type": "stream",
     "text": [
      "<class 'pandas.core.frame.DataFrame'>\n",
      "RangeIndex: 50000 entries, 0 to 49999\n",
      "Data columns (total 11 columns):\n",
      "Restaurant_id        50000 non-null object\n",
      "City                 50000 non-null object\n",
      "Cuisine Style        38410 non-null object\n",
      "Ranking              50000 non-null float64\n",
      "Price Range          32639 non-null object\n",
      "Number of Reviews    46800 non-null float64\n",
      "Reviews              49998 non-null object\n",
      "URL_TA               50000 non-null object\n",
      "ID_TA                50000 non-null object\n",
      "sample               50000 non-null int64\n",
      "Rating               50000 non-null float64\n",
      "dtypes: float64(3), int64(1), object(7)\n",
      "memory usage: 4.2+ MB\n"
     ]
    }
   ],
   "source": [
    "data.info()"
   ]
  },
  {
   "cell_type": "markdown",
   "metadata": {},
   "source": [
    "Подробнее по признакам:\n",
    "* City: Город \n",
    "* Cuisine Style: Кухня\n",
    "* Ranking: Ранг ресторана относительно других ресторанов в этом городе\n",
    "* Price Range: Цены в ресторане в 3 категориях\n",
    "* Number of Reviews: Количество отзывов\n",
    "* Reviews: 2 последних отзыва и даты этих отзывов\n",
    "* URL_TA: страница ресторана на 'www.tripadvisor.com' \n",
    "* ID_TA: ID ресторана в TripAdvisor\n",
    "* Rating: Рейтинг ресторана"
   ]
  },
  {
   "cell_type": "markdown",
   "metadata": {},
   "source": [
    "# Cleaning and Prepping Data\n",
    "Обычно данные содержат в себе кучу мусора, который необходимо почистить, для того чтобы привести их в приемлемый формат. Чистка данных — это необходимый этап решения почти любой реальной задачи.   \n",
    "![](https://analyticsindiamag.com/wp-content/uploads/2018/01/data-cleaning.png)"
   ]
  },
  {
   "cell_type": "markdown",
   "metadata": {},
   "source": [
    "### **Посмотрим пропуски в данных**"
   ]
  },
  {
   "cell_type": "code",
   "execution_count": 14,
   "metadata": {
    "execution": {
     "iopub.execute_input": "2021-05-29T22:42:29.587844Z",
     "iopub.status.busy": "2021-05-29T22:42:29.587490Z",
     "iopub.status.idle": "2021-05-29T22:42:30.983497Z",
     "shell.execute_reply": "2021-05-29T22:42:30.982629Z",
     "shell.execute_reply.started": "2021-05-29T22:42:29.587787Z"
    }
   },
   "outputs": [
    {
     "data": {
      "text/plain": [
       "<matplotlib.axes._subplots.AxesSubplot at 0x7f943526aba8>"
      ]
     },
     "execution_count": 14,
     "metadata": {},
     "output_type": "execute_result"
    },
    {
     "data": {
      "image/png": "[encoded data removed]",
      "text/plain": [
       "<Figure size 432x288 with 2 Axes>"
      ]
     },
     "metadata": {
      "needs_background": "light"
     },
     "output_type": "display_data"
    }
   ],
   "source": [
    "\n",
    "sns.heatmap(data.isnull(), cmap='spring')"
   ]
  },
  {
   "cell_type": "markdown",
   "metadata": {},
   "source": [
    "#### **Основные пропуски:**\n",
    "* Cuisine Style\n",
    "* Price Range"
   ]
  },
  {
   "cell_type": "markdown",
   "metadata": {},
   "source": [
    "### **Обработка поля Cuisine Style:**"
   ]
  },
  {
   "cell_type": "code",
   "execution_count": 15,
   "metadata": {
    "execution": {
     "iopub.execute_input": "2021-05-29T22:42:36.292703Z",
     "iopub.status.busy": "2021-05-29T22:42:36.291511Z",
     "iopub.status.idle": "2021-05-29T22:42:37.180520Z",
     "shell.execute_reply": "2021-05-29T22:42:37.179716Z",
     "shell.execute_reply.started": "2021-05-29T22:42:36.292640Z"
    }
   },
   "outputs": [],
   "source": [
    "#Замена Nan:\n",
    "data['Cuisine Style'].fillna('Cuisine_Style_Nan', inplace=True)\n",
    "\n",
    "#Парсим:\n",
    "cuisine_style_list = []\n",
    "cuisine_style_list_all = []\n",
    "cuisine_style_list_data = data['Cuisine Style'].tolist()\n",
    "for cuisine_style in cuisine_style_list_data: \n",
    "    cuisine_style_list = cuisine_style.replace(\"\\'\",\"\").replace(\"[\",\"\").replace(\"]\",'').split(\", \")\n",
    "    for el in cuisine_style_list:\n",
    "        cuisine_style_list_all.append(el)\n",
    "        \n",
    "#Отбираем топ 20\n",
    "cuisine_style_df = pd.DataFrame(cuisine_style_list_all,columns=['cuisine_style'])\n",
    "cuisine_style_list_top = pd.DataFrame(cuisine_style_df.cuisine_style.value_counts()).reset_index().sort_values(by = 'cuisine_style', ascending=False).head(20)['index'].tolist()\n",
    "\n",
    "#Имитируем get_dummies, создаем столбцы с названием Стилей кухон:\n",
    "for cuisine_style in cuisine_style_list_top:\n",
    "    data[cuisine_style] = data['Cuisine Style'].apply(lambda x: 1 if cuisine_style in x else 0)\n",
    "\n",
    "#Заполняем столбец прочие\n",
    "def other_style(x):\n",
    "    cuisine_style_list = x.replace(\"\\'\",\"\").replace(\"[\",\"\").replace(\"]\",'').split(\", \")\n",
    "    for el in cuisine_style_list:\n",
    "        if el not in cuisine_style_list_top:\n",
    "            return 1\n",
    "    return 0\n",
    "    \n",
    "data['Other Style'] = data['Cuisine Style'].apply(other_style)\n",
    "\n",
    "#=================================================================================================================    \n",
    "#Очень странно что цикл в цикле работате быстрее чем стандартные функции!!!!!  например объединение Pandas     \n",
    "    \n",
    "#Формируем уникальное количесво используя множество: Не подходит, но работает быстро!\n",
    "#Cuisine_Style_Set = set()\n",
    "#for Cuisine_Style in data['Cuisine Style'].tolist():\n",
    "    #Cuisine_Style_Set = Cuisine_Style_Set.union(set(Cuisine_Style.replace(\"\\'\",\"\").replace(\"[\",\"\").replace(\"]\",'').split(\", \")))\n",
    "    \n",
    "#Парсим: кортеж - работает медленно\n",
    "#cuisine_style_tup = ()\n",
    "#cuisine_style_list_data = data['Cuisine Style'].tolist()\n",
    "#for cuisine_style in cuisine_style_list_data: \n",
    "    #cuisine_style_tup = cuisine_style_tup + tuple(cuisine_style.replace(\"\\'\",\"\").replace(\"[\",\"\").replace(\"]\",'').split(\", \"))    \n",
    "\n",
    "#Парсим: список - работает медленно\n",
    "#cuisine_style_list = []\n",
    "#cuisine_style_list_data = data['Cuisine Style'].tolist()\n",
    "#for cuisine_style in cuisine_style_list_data: \n",
    "    #cuisine_style_list = cuisine_style_list + cuisine_style.replace(\"\\'\",\"\").replace(\"[\",\"\").replace(\"]\",'').split(\", \")\n",
    "    \n",
    "#Парсим: DataFrame - работает медленно\n",
    "#cuisine_style_df = pd.DataFrame(columns=['cuisine_style'])\n",
    "#for cuisine_style in cuisine_style_list:\n",
    "    #l = cuisine_style.replace(\"\\'\",\"\").replace(\"[\",\"\").replace(\"]\",'').split(\", \")\n",
    "    #cuisine_style_df = pd.DataFrame(l, columns=['cuisine_style']).append(cuisine_style_df, sort=False,ignore_index=False)\n",
    "    "
   ]
  },
  {
   "cell_type": "markdown",
   "metadata": {},
   "source": [
    "### **Обработка поля Reviews:**"
   ]
  },
  {
   "cell_type": "code",
   "execution_count": 16,
   "metadata": {
    "execution": {
     "iopub.execute_input": "2021-05-29T22:42:41.988551Z",
     "iopub.status.busy": "2021-05-29T22:42:41.988087Z",
     "iopub.status.idle": "2021-05-29T22:42:42.848014Z",
     "shell.execute_reply": "2021-05-29T22:42:42.846918Z",
     "shell.execute_reply.started": "2021-05-29T22:42:41.988507Z"
    }
   },
   "outputs": [],
   "source": [
    "#Замена Nan:\n",
    "data['Reviews'].fillna(\"[[], []]\", inplace=True)\n",
    "\n",
    "\n",
    "# сделаем два списка: положительные и отрицательные слова\n",
    "good_words = ['amazing','fantastic','perfect','wonderful',\n",
    "               'gusto','nya','bellisimo','dequate','pleasantly','wunderfull',\n",
    "               'pleasant','awesome','yummy','fabulous','cool',\n",
    "               'delucious','excellient','picturesque','👍','good','great',\n",
    "               'best','excellent','nice','delicious','lovely','tasty',\n",
    "               'fine','brilliant','enjoyable','good!','outstanding','delicious!',\n",
    "               'charming','affordable','delightful','comfortable','+','gorgeous','👏',\n",
    "              'рекомендую','famously','amazinggggg',':)','))','💓', 'recommendable',\n",
    "              'superbo','graet','guter','⭐️','👌','super','wow']\n",
    "\n",
    "bad_words = ['foo ','bad ','poor','stop ','worst','disappointing',\n",
    "              '😞','weak','only?','grubby','awseome','wash','ameri',\n",
    "              'horrible','mediocre','unfriendly','worse','dirty',\n",
    "              'weakest','filthy','disasterous','becareful','miserable',\n",
    "              'terrible','overpriced','rude','disappointed',\n",
    "              'disappointment','fo ','waste','satisfying', '((', ':(','warning','poor']\n",
    "\n",
    "#Создаемм 2 столбца с признаками на основании отзывов хороший или плохой рестаран\n",
    "def count_words(string, words):\n",
    "    for word in words:    \n",
    "        if word in string.lower():\n",
    "            return 1\n",
    "    return 0\n",
    "\n",
    "\n",
    "\n",
    "data['good_words'] = data['Reviews'].apply(lambda x: count_words(x, good_words))\n",
    "data['bad_words'] = data['Reviews'].apply(lambda x: count_words(x, bad_words))"
   ]
  },
  {
   "cell_type": "code",
   "execution_count": 17,
   "metadata": {
    "execution": {
     "iopub.execute_input": "2021-05-29T22:42:50.188571Z",
     "iopub.status.busy": "2021-05-29T22:42:50.188239Z",
     "iopub.status.idle": "2021-05-29T22:42:50.215149Z",
     "shell.execute_reply": "2021-05-29T22:42:50.214510Z",
     "shell.execute_reply.started": "2021-05-29T22:42:50.188523Z"
    }
   },
   "outputs": [
    {
     "data": {
      "text/html": [
       "<div>\n",
       "<style scoped>\n",
       "    .dataframe tbody tr th:only-of-type {\n",
       "        vertical-align: middle;\n",
       "    }\n",
       "\n",
       "    .dataframe tbody tr th {\n",
       "        vertical-align: top;\n",
       "    }\n",
       "\n",
       "    .dataframe thead th {\n",
       "        text-align: right;\n",
       "    }\n",
       "</style>\n",
       "<table border=\"1\" class=\"dataframe\">\n",
       "  <thead>\n",
       "    <tr style=\"text-align: right;\">\n",
       "      <th></th>\n",
       "      <th>good_words</th>\n",
       "      <th>bad_words</th>\n",
       "      <th>Reviews</th>\n",
       "    </tr>\n",
       "  </thead>\n",
       "  <tbody>\n",
       "    <tr>\n",
       "      <th>39220</th>\n",
       "      <td>1</td>\n",
       "      <td>0</td>\n",
       "      <td>[['Team Christmas Meal', 'Good but a bit expen...</td>\n",
       "    </tr>\n",
       "    <tr>\n",
       "      <th>4830</th>\n",
       "      <td>1</td>\n",
       "      <td>0</td>\n",
       "      <td>[['Pleasantly Surprised Every Time', 'Amazing ...</td>\n",
       "    </tr>\n",
       "    <tr>\n",
       "      <th>38612</th>\n",
       "      <td>1</td>\n",
       "      <td>0</td>\n",
       "      <td>[['Heard good things..and was NOT disappointe....</td>\n",
       "    </tr>\n",
       "    <tr>\n",
       "      <th>18828</th>\n",
       "      <td>0</td>\n",
       "      <td>0</td>\n",
       "      <td>[['Authentic Italian Grotto', 'Convenient Ital...</td>\n",
       "    </tr>\n",
       "    <tr>\n",
       "      <th>1183</th>\n",
       "      <td>1</td>\n",
       "      <td>0</td>\n",
       "      <td>[['Great Show and Venue', 'Fabulous Evening gr...</td>\n",
       "    </tr>\n",
       "    <tr>\n",
       "      <th>38723</th>\n",
       "      <td>1</td>\n",
       "      <td>0</td>\n",
       "      <td>[['Retail and rolls ...what a combination...',...</td>\n",
       "    </tr>\n",
       "    <tr>\n",
       "      <th>23853</th>\n",
       "      <td>1</td>\n",
       "      <td>0</td>\n",
       "      <td>[['Nice early dinner', 'Tasty food'], ['08/29/...</td>\n",
       "    </tr>\n",
       "    <tr>\n",
       "      <th>42975</th>\n",
       "      <td>1</td>\n",
       "      <td>0</td>\n",
       "      <td>[['Authentic modern Italian. Great location n....</td>\n",
       "    </tr>\n",
       "    <tr>\n",
       "      <th>9966</th>\n",
       "      <td>1</td>\n",
       "      <td>0</td>\n",
       "      <td>[['Traditional austrian cuisine', 'Nice restau...</td>\n",
       "    </tr>\n",
       "    <tr>\n",
       "      <th>46867</th>\n",
       "      <td>0</td>\n",
       "      <td>0</td>\n",
       "      <td>[['Slight disappoinment', 'Basic, but inexpens...</td>\n",
       "    </tr>\n",
       "  </tbody>\n",
       "</table>\n",
       "</div>"
      ],
      "text/plain": [
       "       good_words  bad_words  \\\n",
       "39220           1          0   \n",
       "4830            1          0   \n",
       "38612           1          0   \n",
       "18828           0          0   \n",
       "1183            1          0   \n",
       "38723           1          0   \n",
       "23853           1          0   \n",
       "42975           1          0   \n",
       "9966            1          0   \n",
       "46867           0          0   \n",
       "\n",
       "                                                 Reviews  \n",
       "39220  [['Team Christmas Meal', 'Good but a bit expen...  \n",
       "4830   [['Pleasantly Surprised Every Time', 'Amazing ...  \n",
       "38612  [['Heard good things..and was NOT disappointe....  \n",
       "18828  [['Authentic Italian Grotto', 'Convenient Ital...  \n",
       "1183   [['Great Show and Venue', 'Fabulous Evening gr...  \n",
       "38723  [['Retail and rolls ...what a combination...',...  \n",
       "23853  [['Nice early dinner', 'Tasty food'], ['08/29/...  \n",
       "42975  [['Authentic modern Italian. Great location n....  \n",
       "9966   [['Traditional austrian cuisine', 'Nice restau...  \n",
       "46867  [['Slight disappoinment', 'Basic, but inexpens...  "
      ]
     },
     "execution_count": 17,
     "metadata": {},
     "output_type": "execute_result"
    }
   ],
   "source": [
    "data[['good_words','bad_words','Reviews']].sample(10)"
   ]
  },
  {
   "cell_type": "code",
   "execution_count": 18,
   "metadata": {
    "execution": {
     "iopub.execute_input": "2021-05-29T22:42:58.300715Z",
     "iopub.status.busy": "2021-05-29T22:42:58.300342Z",
     "iopub.status.idle": "2021-05-29T22:42:58.307380Z",
     "shell.execute_reply": "2021-05-29T22:42:58.306487Z",
     "shell.execute_reply.started": "2021-05-29T22:42:58.300654Z"
    }
   },
   "outputs": [
    {
     "data": {
      "text/plain": [
       "\"[['Best kebab', 'Scrumptuous place to eat casual or if fami...'], ['12/30/2017', '08/27/2017']]\""
      ]
     },
     "execution_count": 18,
     "metadata": {},
     "output_type": "execute_result"
    }
   ],
   "source": [
    "data.loc[6840]['Reviews']"
   ]
  },
  {
   "cell_type": "markdown",
   "metadata": {},
   "source": [
    "### **Обработка поля Price Range:**\n",
    "\n",
    "По описанию 'Price Range' это - Цены в ресторане.\n",
    "Их можно поставить по возрастанию (значит это не категориальный признак). А это значит, что их можно заменить последовательными числами, например 1,2,3"
   ]
  },
  {
   "cell_type": "code",
   "execution_count": 19,
   "metadata": {
    "execution": {
     "iopub.execute_input": "2021-05-29T22:43:41.529428Z",
     "iopub.status.busy": "2021-05-29T22:43:41.529082Z",
     "iopub.status.idle": "2021-05-29T22:43:41.620191Z",
     "shell.execute_reply": "2021-05-29T22:43:41.619550Z",
     "shell.execute_reply.started": "2021-05-29T22:43:41.529369Z"
    }
   },
   "outputs": [
    {
     "data": {
      "text/plain": [
       "array(['$$ - $$$', '$$$$', '$', nan], dtype=object)"
      ]
     },
     "metadata": {},
     "output_type": "display_data"
    },
    {
     "data": {
      "text/plain": [
       "$$ - $$$    23041\n",
       "$            7816\n",
       "$$$$         1782\n",
       "Name: Price Range, dtype: int64"
      ]
     },
     "metadata": {},
     "output_type": "display_data"
    }
   ],
   "source": [
    "display(data['Price Range'].unique())\n",
    "\n",
    "display(data['Price Range'].value_counts())\n",
    "\n",
    "def replace_price_range(string):\n",
    "    \n",
    "    if pd.isnull(string):\n",
    "        return 0\n",
    "    elif string == '$$$$':\n",
    "        \n",
    "        return 3\n",
    "    elif string == '$$ - $$$':\n",
    "        return 2\n",
    "    elif string == '$':\n",
    "        return 1\n",
    "data['Price Range'] = data['Price Range'].apply(replace_price_range)"
   ]
  },
  {
   "cell_type": "code",
   "execution_count": 20,
   "metadata": {
    "execution": {
     "iopub.execute_input": "2021-05-29T22:43:45.346460Z",
     "iopub.status.busy": "2021-05-29T22:43:45.346119Z",
     "iopub.status.idle": "2021-05-29T22:43:45.354956Z",
     "shell.execute_reply": "2021-05-29T22:43:45.353860Z",
     "shell.execute_reply.started": "2021-05-29T22:43:45.346402Z"
    }
   },
   "outputs": [
    {
     "data": {
      "text/plain": [
       "15152    2\n",
       "40623    2\n",
       "572      0\n",
       "22152    1\n",
       "21388    2\n",
       "24984    2\n",
       "30898    0\n",
       "2676     0\n",
       "37810    0\n",
       "10207    2\n",
       "Name: Price Range, dtype: int64"
      ]
     },
     "execution_count": 20,
     "metadata": {},
     "output_type": "execute_result"
    }
   ],
   "source": [
    "data['Price Range'].sample(10)"
   ]
  },
  {
   "cell_type": "code",
   "execution_count": 21,
   "metadata": {
    "execution": {
     "iopub.execute_input": "2021-05-29T22:43:47.642449Z",
     "iopub.status.busy": "2021-05-29T22:43:47.642165Z",
     "iopub.status.idle": "2021-05-29T22:43:47.675459Z",
     "shell.execute_reply": "2021-05-29T22:43:47.674512Z",
     "shell.execute_reply.started": "2021-05-29T22:43:47.642405Z"
    }
   },
   "outputs": [
    {
     "data": {
      "text/html": [
       "<div>\n",
       "<style scoped>\n",
       "    .dataframe tbody tr th:only-of-type {\n",
       "        vertical-align: middle;\n",
       "    }\n",
       "\n",
       "    .dataframe tbody tr th {\n",
       "        vertical-align: top;\n",
       "    }\n",
       "\n",
       "    .dataframe thead th {\n",
       "        text-align: right;\n",
       "    }\n",
       "</style>\n",
       "<table border=\"1\" class=\"dataframe\">\n",
       "  <thead>\n",
       "    <tr style=\"text-align: right;\">\n",
       "      <th></th>\n",
       "      <th>Restaurant_id</th>\n",
       "      <th>City</th>\n",
       "      <th>Cuisine Style</th>\n",
       "      <th>Ranking</th>\n",
       "      <th>Price Range</th>\n",
       "      <th>Number of Reviews</th>\n",
       "      <th>Reviews</th>\n",
       "      <th>URL_TA</th>\n",
       "      <th>ID_TA</th>\n",
       "      <th>sample</th>\n",
       "      <th>...</th>\n",
       "      <th>Cafe</th>\n",
       "      <th>Fast Food</th>\n",
       "      <th>British</th>\n",
       "      <th>International</th>\n",
       "      <th>Seafood</th>\n",
       "      <th>Japanese</th>\n",
       "      <th>Central European</th>\n",
       "      <th>Other Style</th>\n",
       "      <th>good_words</th>\n",
       "      <th>bad_words</th>\n",
       "    </tr>\n",
       "  </thead>\n",
       "  <tbody>\n",
       "    <tr>\n",
       "      <th>0</th>\n",
       "      <td>id_0</td>\n",
       "      <td>Paris</td>\n",
       "      <td>['Bar', 'Pub']</td>\n",
       "      <td>12963.0</td>\n",
       "      <td>2</td>\n",
       "      <td>4.0</td>\n",
       "      <td>[[], []]</td>\n",
       "      <td>/Restaurant_Review-g187147-d10746918-Reviews-L...</td>\n",
       "      <td>d10746918</td>\n",
       "      <td>0</td>\n",
       "      <td>...</td>\n",
       "      <td>0</td>\n",
       "      <td>0</td>\n",
       "      <td>0</td>\n",
       "      <td>0</td>\n",
       "      <td>0</td>\n",
       "      <td>0</td>\n",
       "      <td>0</td>\n",
       "      <td>0</td>\n",
       "      <td>0</td>\n",
       "      <td>0</td>\n",
       "    </tr>\n",
       "    <tr>\n",
       "      <th>1</th>\n",
       "      <td>id_1</td>\n",
       "      <td>Helsinki</td>\n",
       "      <td>['European', 'Scandinavian', 'Gluten Free Opti...</td>\n",
       "      <td>106.0</td>\n",
       "      <td>2</td>\n",
       "      <td>97.0</td>\n",
       "      <td>[['Very good reviews!', 'Fine dining in Hakani...</td>\n",
       "      <td>/Restaurant_Review-g189934-d6674944-Reviews-Ra...</td>\n",
       "      <td>d6674944</td>\n",
       "      <td>0</td>\n",
       "      <td>...</td>\n",
       "      <td>0</td>\n",
       "      <td>0</td>\n",
       "      <td>0</td>\n",
       "      <td>0</td>\n",
       "      <td>0</td>\n",
       "      <td>0</td>\n",
       "      <td>0</td>\n",
       "      <td>1</td>\n",
       "      <td>1</td>\n",
       "      <td>0</td>\n",
       "    </tr>\n",
       "    <tr>\n",
       "      <th>2</th>\n",
       "      <td>id_2</td>\n",
       "      <td>Edinburgh</td>\n",
       "      <td>['Vegetarian Friendly']</td>\n",
       "      <td>810.0</td>\n",
       "      <td>2</td>\n",
       "      <td>28.0</td>\n",
       "      <td>[['Better than the Links', 'Ivy Black'], ['12/...</td>\n",
       "      <td>/Restaurant_Review-g186525-d13129638-Reviews-B...</td>\n",
       "      <td>d13129638</td>\n",
       "      <td>0</td>\n",
       "      <td>...</td>\n",
       "      <td>0</td>\n",
       "      <td>0</td>\n",
       "      <td>0</td>\n",
       "      <td>0</td>\n",
       "      <td>0</td>\n",
       "      <td>0</td>\n",
       "      <td>0</td>\n",
       "      <td>0</td>\n",
       "      <td>0</td>\n",
       "      <td>0</td>\n",
       "    </tr>\n",
       "    <tr>\n",
       "      <th>3</th>\n",
       "      <td>id_3</td>\n",
       "      <td>London</td>\n",
       "      <td>['Italian', 'Mediterranean', 'European', 'Vege...</td>\n",
       "      <td>1669.0</td>\n",
       "      <td>3</td>\n",
       "      <td>202.0</td>\n",
       "      <td>[['Most exquisite', 'Delicious and authentic']...</td>\n",
       "      <td>/Restaurant_Review-g186338-d680417-Reviews-Qui...</td>\n",
       "      <td>d680417</td>\n",
       "      <td>0</td>\n",
       "      <td>...</td>\n",
       "      <td>0</td>\n",
       "      <td>0</td>\n",
       "      <td>0</td>\n",
       "      <td>0</td>\n",
       "      <td>0</td>\n",
       "      <td>0</td>\n",
       "      <td>0</td>\n",
       "      <td>0</td>\n",
       "      <td>1</td>\n",
       "      <td>0</td>\n",
       "    </tr>\n",
       "    <tr>\n",
       "      <th>4</th>\n",
       "      <td>id_4</td>\n",
       "      <td>Bratislava</td>\n",
       "      <td>['Italian', 'Mediterranean', 'European', 'Seaf...</td>\n",
       "      <td>37.0</td>\n",
       "      <td>3</td>\n",
       "      <td>162.0</td>\n",
       "      <td>[['Always the best in bratislava', 'Very good ...</td>\n",
       "      <td>/Restaurant_Review-g274924-d1112354-Reviews-Ma...</td>\n",
       "      <td>d1112354</td>\n",
       "      <td>0</td>\n",
       "      <td>...</td>\n",
       "      <td>0</td>\n",
       "      <td>0</td>\n",
       "      <td>0</td>\n",
       "      <td>0</td>\n",
       "      <td>1</td>\n",
       "      <td>0</td>\n",
       "      <td>0</td>\n",
       "      <td>0</td>\n",
       "      <td>1</td>\n",
       "      <td>0</td>\n",
       "    </tr>\n",
       "    <tr>\n",
       "      <th>5</th>\n",
       "      <td>id_5</td>\n",
       "      <td>Paris</td>\n",
       "      <td>['French', 'Cafe', 'Fast Food']</td>\n",
       "      <td>5093.0</td>\n",
       "      <td>1</td>\n",
       "      <td>24.0</td>\n",
       "      <td>[['Lunch Break', 'Good to Quick Bite'], ['09/0...</td>\n",
       "      <td>/Restaurant_Review-g187147-d8458643-Reviews-Le...</td>\n",
       "      <td>d8458643</td>\n",
       "      <td>0</td>\n",
       "      <td>...</td>\n",
       "      <td>1</td>\n",
       "      <td>1</td>\n",
       "      <td>0</td>\n",
       "      <td>0</td>\n",
       "      <td>0</td>\n",
       "      <td>0</td>\n",
       "      <td>0</td>\n",
       "      <td>0</td>\n",
       "      <td>1</td>\n",
       "      <td>0</td>\n",
       "    </tr>\n",
       "    <tr>\n",
       "      <th>6</th>\n",
       "      <td>id_6</td>\n",
       "      <td>Lisbon</td>\n",
       "      <td>['European', 'Portuguese']</td>\n",
       "      <td>3704.0</td>\n",
       "      <td>1</td>\n",
       "      <td>2.0</td>\n",
       "      <td>[[], []]</td>\n",
       "      <td>/Restaurant_Review-g189158-d8758873-Reviews-Li...</td>\n",
       "      <td>d8758873</td>\n",
       "      <td>0</td>\n",
       "      <td>...</td>\n",
       "      <td>0</td>\n",
       "      <td>0</td>\n",
       "      <td>0</td>\n",
       "      <td>0</td>\n",
       "      <td>0</td>\n",
       "      <td>0</td>\n",
       "      <td>0</td>\n",
       "      <td>1</td>\n",
       "      <td>0</td>\n",
       "      <td>0</td>\n",
       "    </tr>\n",
       "    <tr>\n",
       "      <th>7</th>\n",
       "      <td>id_7</td>\n",
       "      <td>Budapest</td>\n",
       "      <td>Cuisine_Style_Nan</td>\n",
       "      <td>2330.0</td>\n",
       "      <td>0</td>\n",
       "      <td>NaN</td>\n",
       "      <td>[[], []]</td>\n",
       "      <td>/Restaurant_Review-g274887-d8286886-Reviews-Be...</td>\n",
       "      <td>d8286886</td>\n",
       "      <td>0</td>\n",
       "      <td>...</td>\n",
       "      <td>0</td>\n",
       "      <td>0</td>\n",
       "      <td>0</td>\n",
       "      <td>0</td>\n",
       "      <td>0</td>\n",
       "      <td>0</td>\n",
       "      <td>0</td>\n",
       "      <td>0</td>\n",
       "      <td>0</td>\n",
       "      <td>0</td>\n",
       "    </tr>\n",
       "    <tr>\n",
       "      <th>8</th>\n",
       "      <td>id_8</td>\n",
       "      <td>Helsinki</td>\n",
       "      <td>['European', 'Scandinavian']</td>\n",
       "      <td>771.0</td>\n",
       "      <td>0</td>\n",
       "      <td>2.0</td>\n",
       "      <td>[['Big group supper', 'Good food but very slow...</td>\n",
       "      <td>/Restaurant_Review-g189934-d12947542-Reviews-B...</td>\n",
       "      <td>d12947542</td>\n",
       "      <td>0</td>\n",
       "      <td>...</td>\n",
       "      <td>0</td>\n",
       "      <td>0</td>\n",
       "      <td>0</td>\n",
       "      <td>0</td>\n",
       "      <td>0</td>\n",
       "      <td>0</td>\n",
       "      <td>0</td>\n",
       "      <td>1</td>\n",
       "      <td>1</td>\n",
       "      <td>1</td>\n",
       "    </tr>\n",
       "    <tr>\n",
       "      <th>9</th>\n",
       "      <td>id_9</td>\n",
       "      <td>Stockholm</td>\n",
       "      <td>['Italian']</td>\n",
       "      <td>605.0</td>\n",
       "      <td>0</td>\n",
       "      <td>13.0</td>\n",
       "      <td>[['Good food', 'Good pizza'], ['12/02/2017', '...</td>\n",
       "      <td>/Restaurant_Review-g189852-d12716384-Reviews-I...</td>\n",
       "      <td>d12716384</td>\n",
       "      <td>0</td>\n",
       "      <td>...</td>\n",
       "      <td>0</td>\n",
       "      <td>0</td>\n",
       "      <td>0</td>\n",
       "      <td>0</td>\n",
       "      <td>0</td>\n",
       "      <td>0</td>\n",
       "      <td>0</td>\n",
       "      <td>0</td>\n",
       "      <td>1</td>\n",
       "      <td>0</td>\n",
       "    </tr>\n",
       "  </tbody>\n",
       "</table>\n",
       "<p>10 rows × 34 columns</p>\n",
       "</div>"
      ],
      "text/plain": [
       "  Restaurant_id        City  \\\n",
       "0          id_0       Paris   \n",
       "1          id_1    Helsinki   \n",
       "2          id_2   Edinburgh   \n",
       "3          id_3      London   \n",
       "4          id_4  Bratislava   \n",
       "5          id_5       Paris   \n",
       "6          id_6      Lisbon   \n",
       "7          id_7    Budapest   \n",
       "8          id_8    Helsinki   \n",
       "9          id_9   Stockholm   \n",
       "\n",
       "                                       Cuisine Style  Ranking  Price Range  \\\n",
       "0                                     ['Bar', 'Pub']  12963.0            2   \n",
       "1  ['European', 'Scandinavian', 'Gluten Free Opti...    106.0            2   \n",
       "2                            ['Vegetarian Friendly']    810.0            2   \n",
       "3  ['Italian', 'Mediterranean', 'European', 'Vege...   1669.0            3   \n",
       "4  ['Italian', 'Mediterranean', 'European', 'Seaf...     37.0            3   \n",
       "5                    ['French', 'Cafe', 'Fast Food']   5093.0            1   \n",
       "6                         ['European', 'Portuguese']   3704.0            1   \n",
       "7                                  Cuisine_Style_Nan   2330.0            0   \n",
       "8                       ['European', 'Scandinavian']    771.0            0   \n",
       "9                                        ['Italian']    605.0            0   \n",
       "\n",
       "   Number of Reviews                                            Reviews  \\\n",
       "0                4.0                                           [[], []]   \n",
       "1               97.0  [['Very good reviews!', 'Fine dining in Hakani...   \n",
       "2               28.0  [['Better than the Links', 'Ivy Black'], ['12/...   \n",
       "3              202.0  [['Most exquisite', 'Delicious and authentic']...   \n",
       "4              162.0  [['Always the best in bratislava', 'Very good ...   \n",
       "5               24.0  [['Lunch Break', 'Good to Quick Bite'], ['09/0...   \n",
       "6                2.0                                           [[], []]   \n",
       "7                NaN                                           [[], []]   \n",
       "8                2.0  [['Big group supper', 'Good food but very slow...   \n",
       "9               13.0  [['Good food', 'Good pizza'], ['12/02/2017', '...   \n",
       "\n",
       "                                              URL_TA      ID_TA  sample  ...  \\\n",
       "0  /Restaurant_Review-g187147-d10746918-Reviews-L...  d10746918       0  ...   \n",
       "1  /Restaurant_Review-g189934-d6674944-Reviews-Ra...   d6674944       0  ...   \n",
       "2  /Restaurant_Review-g186525-d13129638-Reviews-B...  d13129638       0  ...   \n",
       "3  /Restaurant_Review-g186338-d680417-Reviews-Qui...    d680417       0  ...   \n",
       "4  /Restaurant_Review-g274924-d1112354-Reviews-Ma...   d1112354       0  ...   \n",
       "5  /Restaurant_Review-g187147-d8458643-Reviews-Le...   d8458643       0  ...   \n",
       "6  /Restaurant_Review-g189158-d8758873-Reviews-Li...   d8758873       0  ...   \n",
       "7  /Restaurant_Review-g274887-d8286886-Reviews-Be...   d8286886       0  ...   \n",
       "8  /Restaurant_Review-g189934-d12947542-Reviews-B...  d12947542       0  ...   \n",
       "9  /Restaurant_Review-g189852-d12716384-Reviews-I...  d12716384       0  ...   \n",
       "\n",
       "   Cafe  Fast Food  British  International  Seafood  Japanese  \\\n",
       "0     0          0        0              0        0         0   \n",
       "1     0          0        0              0        0         0   \n",
       "2     0          0        0              0        0         0   \n",
       "3     0          0        0              0        0         0   \n",
       "4     0          0        0              0        1         0   \n",
       "5     1          1        0              0        0         0   \n",
       "6     0          0        0              0        0         0   \n",
       "7     0          0        0              0        0         0   \n",
       "8     0          0        0              0        0         0   \n",
       "9     0          0        0              0        0         0   \n",
       "\n",
       "   Central European  Other Style  good_words  bad_words  \n",
       "0                 0            0           0          0  \n",
       "1                 0            1           1          0  \n",
       "2                 0            0           0          0  \n",
       "3                 0            0           1          0  \n",
       "4                 0            0           1          0  \n",
       "5                 0            0           1          0  \n",
       "6                 0            1           0          0  \n",
       "7                 0            0           0          0  \n",
       "8                 0            1           1          1  \n",
       "9                 0            0           1          0  \n",
       "\n",
       "[10 rows x 34 columns]"
      ]
     },
     "execution_count": 21,
     "metadata": {},
     "output_type": "execute_result"
    }
   ],
   "source": [
    "data.head(10)"
   ]
  },
  {
   "cell_type": "markdown",
   "metadata": {},
   "source": [
    "### **Ranking**"
   ]
  },
  {
   "cell_type": "code",
   "execution_count": 22,
   "metadata": {
    "execution": {
     "iopub.execute_input": "2021-05-29T22:43:52.436671Z",
     "iopub.status.busy": "2021-05-29T22:43:52.436311Z",
     "iopub.status.idle": "2021-05-29T22:43:52.514616Z",
     "shell.execute_reply": "2021-05-29T22:43:52.513740Z",
     "shell.execute_reply.started": "2021-05-29T22:43:52.436612Z"
    }
   },
   "outputs": [],
   "source": [
    "#Расчитываем средний ранк по городу \n",
    "df_r = data.groupby(['City'])['Ranking'].mean().reset_index()\n",
    "df_r.columns = ['City','Ranking_mean']\n",
    "#Добавляем средний ранк в датасет\n",
    "data = pd.merge(data,df_r,left_on='City',right_on='City', how='inner')"
   ]
  },
  {
   "cell_type": "code",
   "execution_count": 23,
   "metadata": {
    "execution": {
     "iopub.execute_input": "2021-05-29T23:03:43.819168Z",
     "iopub.status.busy": "2021-05-29T23:03:43.818839Z",
     "iopub.status.idle": "2021-05-29T23:03:43.902646Z",
     "shell.execute_reply": "2021-05-29T23:03:43.901633Z",
     "shell.execute_reply.started": "2021-05-29T23:03:43.819115Z"
    }
   },
   "outputs": [],
   "source": [
    "#выводим коэффициент Ranking\n",
    "data['Ranking_corr'] = data['Ranking']/data['Ranking_mean']"
   ]
  },
  {
   "cell_type": "code",
   "execution_count": 24,
   "metadata": {
    "execution": {
     "iopub.execute_input": "2021-05-29T23:33:15.590182Z",
     "iopub.status.busy": "2021-05-29T23:33:15.589838Z",
     "iopub.status.idle": "2021-05-29T23:33:15.611006Z",
     "shell.execute_reply": "2021-05-29T23:33:15.609830Z",
     "shell.execute_reply.started": "2021-05-29T23:33:15.590133Z"
    }
   },
   "outputs": [
    {
     "data": {
      "text/plain": [
       "London        7193\n",
       "Paris         6108\n",
       "Madrid        3813\n",
       "Barcelona     3395\n",
       "Berlin        2705\n",
       "Milan         2694\n",
       "Rome          2589\n",
       "Prague        1816\n",
       "Lisbon        1647\n",
       "Vienna        1443\n",
       "Amsterdam     1372\n",
       "Brussels      1314\n",
       "Hamburg       1186\n",
       "Munich        1145\n",
       "Lyon          1126\n",
       "Stockholm     1033\n",
       "Budapest      1021\n",
       "Warsaw         925\n",
       "Dublin         836\n",
       "Copenhagen     819\n",
       "Athens         776\n",
       "Edinburgh      745\n",
       "Zurich         685\n",
       "Oporto         642\n",
       "Geneva         590\n",
       "Krakow         554\n",
       "Oslo           488\n",
       "Helsinki       475\n",
       "Bratislava     380\n",
       "Luxembourg     263\n",
       "Ljubljana      222\n",
       "Name: City, dtype: int64"
      ]
     },
     "execution_count": 24,
     "metadata": {},
     "output_type": "execute_result"
    }
   ],
   "source": [
    "data.City.value_counts()"
   ]
  },
  {
   "cell_type": "code",
   "execution_count": 25,
   "metadata": {
    "execution": {
     "iopub.execute_input": "2021-05-29T23:03:49.281461Z",
     "iopub.status.busy": "2021-05-29T23:03:49.281165Z",
     "iopub.status.idle": "2021-05-29T23:03:49.342029Z",
     "shell.execute_reply": "2021-05-29T23:03:49.341035Z",
     "shell.execute_reply.started": "2021-05-29T23:03:49.281416Z"
    }
   },
   "outputs": [
    {
     "name": "stdout",
     "output_type": "stream",
     "text": [
      "<class 'pandas.core.frame.DataFrame'>\n",
      "Int64Index: 50000 entries, 0 to 49999\n",
      "Data columns (total 36 columns):\n",
      "Restaurant_id          50000 non-null object\n",
      "City                   50000 non-null object\n",
      "Cuisine Style          50000 non-null object\n",
      "Ranking                50000 non-null float64\n",
      "Price Range            50000 non-null int64\n",
      "Number of Reviews      46800 non-null float64\n",
      "Reviews                50000 non-null object\n",
      "URL_TA                 50000 non-null object\n",
      "ID_TA                  50000 non-null object\n",
      "sample                 50000 non-null int64\n",
      "Rating                 50000 non-null float64\n",
      "Vegetarian Friendly    50000 non-null int64\n",
      "European               50000 non-null int64\n",
      "Cuisine_Style_Nan      50000 non-null int64\n",
      "Mediterranean          50000 non-null int64\n",
      "Italian                50000 non-null int64\n",
      "Vegan Options          50000 non-null int64\n",
      "Gluten Free Options    50000 non-null int64\n",
      "Bar                    50000 non-null int64\n",
      "French                 50000 non-null int64\n",
      "Asian                  50000 non-null int64\n",
      "Pizza                  50000 non-null int64\n",
      "Spanish                50000 non-null int64\n",
      "Pub                    50000 non-null int64\n",
      "Cafe                   50000 non-null int64\n",
      "Fast Food              50000 non-null int64\n",
      "British                50000 non-null int64\n",
      "International          50000 non-null int64\n",
      "Seafood                50000 non-null int64\n",
      "Japanese               50000 non-null int64\n",
      "Central European       50000 non-null int64\n",
      "Other Style            50000 non-null int64\n",
      "good_words             50000 non-null int64\n",
      "bad_words              50000 non-null int64\n",
      "Ranking_mean           50000 non-null float64\n",
      "Ranking_corr           50000 non-null float64\n",
      "dtypes: float64(5), int64(25), object(6)\n",
      "memory usage: 14.1+ MB\n"
     ]
    }
   ],
   "source": [
    "data.info()"
   ]
  },
  {
   "cell_type": "code",
   "execution_count": 26,
   "metadata": {
    "execution": {
     "iopub.execute_input": "2021-05-29T23:37:23.314043Z",
     "iopub.status.busy": "2021-05-29T23:37:23.313729Z",
     "iopub.status.idle": "2021-05-29T23:37:23.344028Z",
     "shell.execute_reply": "2021-05-29T23:37:23.343087Z",
     "shell.execute_reply.started": "2021-05-29T23:37:23.313977Z"
    }
   },
   "outputs": [
    {
     "data": {
      "text/html": [
       "<div>\n",
       "<style scoped>\n",
       "    .dataframe tbody tr th:only-of-type {\n",
       "        vertical-align: middle;\n",
       "    }\n",
       "\n",
       "    .dataframe tbody tr th {\n",
       "        vertical-align: top;\n",
       "    }\n",
       "\n",
       "    .dataframe thead th {\n",
       "        text-align: right;\n",
       "    }\n",
       "</style>\n",
       "<table border=\"1\" class=\"dataframe\">\n",
       "  <thead>\n",
       "    <tr style=\"text-align: right;\">\n",
       "      <th></th>\n",
       "      <th>City</th>\n",
       "      <th>Ranking_mean</th>\n",
       "      <th>Ranking</th>\n",
       "      <th>Ranking_corr</th>\n",
       "    </tr>\n",
       "  </thead>\n",
       "  <tbody>\n",
       "    <tr>\n",
       "      <th>34830</th>\n",
       "      <td>Brussels</td>\n",
       "      <td>1541.901826</td>\n",
       "      <td>2763.0</td>\n",
       "      <td>1.791943</td>\n",
       "    </tr>\n",
       "    <tr>\n",
       "      <th>10438</th>\n",
       "      <td>London</td>\n",
       "      <td>8169.707354</td>\n",
       "      <td>595.0</td>\n",
       "      <td>0.072830</td>\n",
       "    </tr>\n",
       "    <tr>\n",
       "      <th>7630</th>\n",
       "      <td>London</td>\n",
       "      <td>8169.707354</td>\n",
       "      <td>13813.0</td>\n",
       "      <td>1.690758</td>\n",
       "    </tr>\n",
       "    <tr>\n",
       "      <th>2811</th>\n",
       "      <td>Paris</td>\n",
       "      <td>6938.557138</td>\n",
       "      <td>1869.0</td>\n",
       "      <td>0.269364</td>\n",
       "    </tr>\n",
       "    <tr>\n",
       "      <th>2971</th>\n",
       "      <td>Paris</td>\n",
       "      <td>6938.557138</td>\n",
       "      <td>8387.0</td>\n",
       "      <td>1.208753</td>\n",
       "    </tr>\n",
       "    <tr>\n",
       "      <th>5267</th>\n",
       "      <td>Paris</td>\n",
       "      <td>6938.557138</td>\n",
       "      <td>2032.0</td>\n",
       "      <td>0.292856</td>\n",
       "    </tr>\n",
       "    <tr>\n",
       "      <th>4898</th>\n",
       "      <td>Paris</td>\n",
       "      <td>6938.557138</td>\n",
       "      <td>7288.0</td>\n",
       "      <td>1.050362</td>\n",
       "    </tr>\n",
       "    <tr>\n",
       "      <th>5260</th>\n",
       "      <td>Paris</td>\n",
       "      <td>6938.557138</td>\n",
       "      <td>9257.0</td>\n",
       "      <td>1.334139</td>\n",
       "    </tr>\n",
       "    <tr>\n",
       "      <th>13381</th>\n",
       "      <td>London</td>\n",
       "      <td>8169.707354</td>\n",
       "      <td>12238.0</td>\n",
       "      <td>1.497973</td>\n",
       "    </tr>\n",
       "    <tr>\n",
       "      <th>10617</th>\n",
       "      <td>London</td>\n",
       "      <td>8169.707354</td>\n",
       "      <td>12335.0</td>\n",
       "      <td>1.509846</td>\n",
       "    </tr>\n",
       "  </tbody>\n",
       "</table>\n",
       "</div>"
      ],
      "text/plain": [
       "           City  Ranking_mean  Ranking  Ranking_corr\n",
       "34830  Brussels   1541.901826   2763.0      1.791943\n",
       "10438    London   8169.707354    595.0      0.072830\n",
       "7630     London   8169.707354  13813.0      1.690758\n",
       "2811      Paris   6938.557138   1869.0      0.269364\n",
       "2971      Paris   6938.557138   8387.0      1.208753\n",
       "5267      Paris   6938.557138   2032.0      0.292856\n",
       "4898      Paris   6938.557138   7288.0      1.050362\n",
       "5260      Paris   6938.557138   9257.0      1.334139\n",
       "13381    London   8169.707354  12238.0      1.497973\n",
       "10617    London   8169.707354  12335.0      1.509846"
      ]
     },
     "execution_count": 26,
     "metadata": {},
     "output_type": "execute_result"
    }
   ],
   "source": [
    "data[(data['City'].isin (['London','Paris','Brussels']))][['City','Ranking_mean','Ranking','Ranking_corr']].sample(10)"
   ]
  },
  {
   "cell_type": "code",
   "execution_count": 27,
   "metadata": {
    "execution": {
     "iopub.execute_input": "2021-05-29T23:26:44.989377Z",
     "iopub.status.busy": "2021-05-29T23:26:44.989055Z",
     "iopub.status.idle": "2021-05-29T23:26:45.259337Z",
     "shell.execute_reply": "2021-05-29T23:26:45.257904Z",
     "shell.execute_reply.started": "2021-05-29T23:26:44.989323Z"
    }
   },
   "outputs": [
    {
     "data": {
      "text/plain": [
       "<matplotlib.axes._subplots.AxesSubplot at 0x7f941bdfdb00>"
      ]
     },
     "execution_count": 27,
     "metadata": {},
     "output_type": "execute_result"
    },
    {
     "data": {
      "image/png": "[encoded data removed]",
      "text/plain": [
       "<Figure size 720x504 with 1 Axes>"
      ]
     },
     "metadata": {
      "needs_background": "light"
     },
     "output_type": "display_data"
    }
   ],
   "source": [
    "plt.rcParams['figure.figsize'] = (10,7)\n",
    "data['Ranking_corr'].hist()\n"
   ]
  },
  {
   "cell_type": "code",
   "execution_count": 28,
   "metadata": {
    "execution": {
     "iopub.execute_input": "2021-05-29T23:30:43.762058Z",
     "iopub.status.busy": "2021-05-29T23:30:43.761761Z",
     "iopub.status.idle": "2021-05-29T23:30:46.414420Z",
     "shell.execute_reply": "2021-05-29T23:30:46.413042Z",
     "shell.execute_reply.started": "2021-05-29T23:30:43.762013Z"
    }
   },
   "outputs": [
    {
     "data": {
      "image/png": "[encoded data removed]",
      "text/plain": [
       "<Figure size 720x504 with 1 Axes>"
      ]
     },
     "metadata": {
      "needs_background": "light"
     },
     "output_type": "display_data"
    }
   ],
   "source": [
    "for x in (data['City'].value_counts())[0:10].index:\n",
    "    data['Ranking_corr'][data['City'] == x].hist(bins=100)\n",
    "plt.show()"
   ]
  },
  {
   "cell_type": "code",
   "execution_count": 29,
   "metadata": {
    "execution": {
     "iopub.execute_input": "2021-05-29T23:04:23.243027Z",
     "iopub.status.busy": "2021-05-29T23:04:23.242578Z",
     "iopub.status.idle": "2021-05-29T23:04:23.686710Z",
     "shell.execute_reply": "2021-05-29T23:04:23.685498Z",
     "shell.execute_reply.started": "2021-05-29T23:04:23.242987Z"
    }
   },
   "outputs": [
    {
     "data": {
      "text/plain": [
       "<matplotlib.axes._subplots.AxesSubplot at 0x7f941bd50390>"
      ]
     },
     "execution_count": 29,
     "metadata": {},
     "output_type": "execute_result"
    },
    {
     "data": {
      "image/png": "[encoded data removed]",
      "text/plain": [
       "<Figure size 720x504 with 1 Axes>"
      ]
     },
     "metadata": {
      "needs_background": "light"
     },
     "output_type": "display_data"
    }
   ],
   "source": [
    "plt.rcParams['figure.figsize'] = (10,7)\n",
    "data['Ranking'].hist()"
   ]
  },
  {
   "cell_type": "markdown",
   "metadata": {},
   "source": [
    "### Поскольку распределение Ranking по городам равномерное то в модели лучше использовать Ranking_corr"
   ]
  },
  {
   "cell_type": "code",
   "execution_count": 30,
   "metadata": {
    "execution": {
     "iopub.execute_input": "2021-05-29T23:45:37.594015Z",
     "iopub.status.busy": "2021-05-29T23:45:37.593719Z",
     "iopub.status.idle": "2021-05-29T23:45:37.611117Z",
     "shell.execute_reply": "2021-05-29T23:45:37.610037Z",
     "shell.execute_reply.started": "2021-05-29T23:45:37.593978Z"
    }
   },
   "outputs": [],
   "source": [
    "data.drop(['Ranking','Ranking_mean'], axis=1, inplace=True)"
   ]
  },
  {
   "cell_type": "code",
   "execution_count": 31,
   "metadata": {
    "execution": {
     "iopub.execute_input": "2021-05-29T23:45:39.950941Z",
     "iopub.status.busy": "2021-05-29T23:45:39.950596Z",
     "iopub.status.idle": "2021-05-29T23:45:40.003593Z",
     "shell.execute_reply": "2021-05-29T23:45:40.002234Z",
     "shell.execute_reply.started": "2021-05-29T23:45:39.950882Z"
    }
   },
   "outputs": [
    {
     "name": "stdout",
     "output_type": "stream",
     "text": [
      "<class 'pandas.core.frame.DataFrame'>\n",
      "Int64Index: 50000 entries, 0 to 49999\n",
      "Data columns (total 34 columns):\n",
      "Restaurant_id          50000 non-null object\n",
      "City                   50000 non-null object\n",
      "Cuisine Style          50000 non-null object\n",
      "Price Range            50000 non-null int64\n",
      "Number of Reviews      46800 non-null float64\n",
      "Reviews                50000 non-null object\n",
      "URL_TA                 50000 non-null object\n",
      "ID_TA                  50000 non-null object\n",
      "sample                 50000 non-null int64\n",
      "Rating                 50000 non-null float64\n",
      "Vegetarian Friendly    50000 non-null int64\n",
      "European               50000 non-null int64\n",
      "Cuisine_Style_Nan      50000 non-null int64\n",
      "Mediterranean          50000 non-null int64\n",
      "Italian                50000 non-null int64\n",
      "Vegan Options          50000 non-null int64\n",
      "Gluten Free Options    50000 non-null int64\n",
      "Bar                    50000 non-null int64\n",
      "French                 50000 non-null int64\n",
      "Asian                  50000 non-null int64\n",
      "Pizza                  50000 non-null int64\n",
      "Spanish                50000 non-null int64\n",
      "Pub                    50000 non-null int64\n",
      "Cafe                   50000 non-null int64\n",
      "Fast Food              50000 non-null int64\n",
      "British                50000 non-null int64\n",
      "International          50000 non-null int64\n",
      "Seafood                50000 non-null int64\n",
      "Japanese               50000 non-null int64\n",
      "Central European       50000 non-null int64\n",
      "Other Style            50000 non-null int64\n",
      "good_words             50000 non-null int64\n",
      "bad_words              50000 non-null int64\n",
      "Ranking_corr           50000 non-null float64\n",
      "dtypes: float64(3), int64(25), object(6)\n",
      "memory usage: 13.4+ MB\n"
     ]
    }
   ],
   "source": [
    "data.info()"
   ]
  },
  {
   "cell_type": "markdown",
   "metadata": {},
   "source": [
    "### **Обработка поля City:**"
   ]
  },
  {
   "cell_type": "markdown",
   "metadata": {},
   "source": [
    "Для кодирования категориальных признаков есть множество подходов:\n",
    "* Label Encoding\n",
    "* One-Hot Encoding\n",
    "* Target Encoding\n",
    "* Hashing\n",
    "\n",
    "Выбор кодирования зависит от признака и выбраной модели.\n",
    "Не будем сейчас сильно погружаться в эту тематику, давайте посмотрим лучше пример с One-Hot Encoding:\n",
    "![](https://i.imgur.com/mtimFxh.png)"
   ]
  },
  {
   "cell_type": "code",
   "execution_count": 32,
   "metadata": {
    "execution": {
     "iopub.execute_input": "2021-05-29T23:45:51.870825Z",
     "iopub.status.busy": "2021-05-29T23:45:51.870544Z",
     "iopub.status.idle": "2021-05-29T23:45:51.891419Z",
     "shell.execute_reply": "2021-05-29T23:45:51.890363Z",
     "shell.execute_reply.started": "2021-05-29T23:45:51.870790Z"
    }
   },
   "outputs": [
    {
     "data": {
      "text/plain": [
       "London        7193\n",
       "Paris         6108\n",
       "Madrid        3813\n",
       "Barcelona     3395\n",
       "Berlin        2705\n",
       "Milan         2694\n",
       "Rome          2589\n",
       "Prague        1816\n",
       "Lisbon        1647\n",
       "Vienna        1443\n",
       "Amsterdam     1372\n",
       "Brussels      1314\n",
       "Hamburg       1186\n",
       "Munich        1145\n",
       "Lyon          1126\n",
       "Stockholm     1033\n",
       "Budapest      1021\n",
       "Warsaw         925\n",
       "Dublin         836\n",
       "Copenhagen     819\n",
       "Athens         776\n",
       "Edinburgh      745\n",
       "Zurich         685\n",
       "Oporto         642\n",
       "Geneva         590\n",
       "Krakow         554\n",
       "Oslo           488\n",
       "Helsinki       475\n",
       "Bratislava     380\n",
       "Luxembourg     263\n",
       "Ljubljana      222\n",
       "Name: City, dtype: int64"
      ]
     },
     "execution_count": 32,
     "metadata": {},
     "output_type": "execute_result"
    }
   ],
   "source": [
    "data.City.value_counts()"
   ]
  },
  {
   "cell_type": "code",
   "execution_count": 33,
   "metadata": {
    "execution": {
     "iopub.execute_input": "2021-05-29T23:51:12.054433Z",
     "iopub.status.busy": "2021-05-29T23:51:12.054089Z",
     "iopub.status.idle": "2021-05-29T23:51:12.092779Z",
     "shell.execute_reply": "2021-05-29T23:51:12.091831Z",
     "shell.execute_reply.started": "2021-05-29T23:51:12.054381Z"
    }
   },
   "outputs": [],
   "source": [
    "#City кодируем с помощью метода One-Hot Encoding\n",
    "# для One-Hot Encoding в pandas есть готовая функция - get_dummies. Особенно радует параметр dummy_na\n",
    "data = pd.get_dummies(data, columns=[ 'City',], dummy_na=True)\n"
   ]
  },
  {
   "cell_type": "code",
   "execution_count": 34,
   "metadata": {
    "execution": {
     "iopub.execute_input": "2021-05-29T23:51:16.075119Z",
     "iopub.status.busy": "2021-05-29T23:51:16.074782Z",
     "iopub.status.idle": "2021-05-29T23:51:16.145168Z",
     "shell.execute_reply": "2021-05-29T23:51:16.144128Z",
     "shell.execute_reply.started": "2021-05-29T23:51:16.075064Z"
    }
   },
   "outputs": [
    {
     "name": "stdout",
     "output_type": "stream",
     "text": [
      "<class 'pandas.core.frame.DataFrame'>\n",
      "Int64Index: 50000 entries, 0 to 49999\n",
      "Data columns (total 65 columns):\n",
      "Restaurant_id          50000 non-null object\n",
      "Cuisine Style          50000 non-null object\n",
      "Price Range            50000 non-null int64\n",
      "Number of Reviews      46800 non-null float64\n",
      "Reviews                50000 non-null object\n",
      "URL_TA                 50000 non-null object\n",
      "ID_TA                  50000 non-null object\n",
      "sample                 50000 non-null int64\n",
      "Rating                 50000 non-null float64\n",
      "Vegetarian Friendly    50000 non-null int64\n",
      "European               50000 non-null int64\n",
      "Cuisine_Style_Nan      50000 non-null int64\n",
      "Mediterranean          50000 non-null int64\n",
      "Italian                50000 non-null int64\n",
      "Vegan Options          50000 non-null int64\n",
      "Gluten Free Options    50000 non-null int64\n",
      "Bar                    50000 non-null int64\n",
      "French                 50000 non-null int64\n",
      "Asian                  50000 non-null int64\n",
      "Pizza                  50000 non-null int64\n",
      "Spanish                50000 non-null int64\n",
      "Pub                    50000 non-null int64\n",
      "Cafe                   50000 non-null int64\n",
      "Fast Food              50000 non-null int64\n",
      "British                50000 non-null int64\n",
      "International          50000 non-null int64\n",
      "Seafood                50000 non-null int64\n",
      "Japanese               50000 non-null int64\n",
      "Central European       50000 non-null int64\n",
      "Other Style            50000 non-null int64\n",
      "good_words             50000 non-null int64\n",
      "bad_words              50000 non-null int64\n",
      "Ranking_corr           50000 non-null float64\n",
      "City_Amsterdam         50000 non-null uint8\n",
      "City_Athens            50000 non-null uint8\n",
      "City_Barcelona         50000 non-null uint8\n",
      "City_Berlin            50000 non-null uint8\n",
      "City_Bratislava        50000 non-null uint8\n",
      "City_Brussels          50000 non-null uint8\n",
      "City_Budapest          50000 non-null uint8\n",
      "City_Copenhagen        50000 non-null uint8\n",
      "City_Dublin            50000 non-null uint8\n",
      "City_Edinburgh         50000 non-null uint8\n",
      "City_Geneva            50000 non-null uint8\n",
      "City_Hamburg           50000 non-null uint8\n",
      "City_Helsinki          50000 non-null uint8\n",
      "City_Krakow            50000 non-null uint8\n",
      "City_Lisbon            50000 non-null uint8\n",
      "City_Ljubljana         50000 non-null uint8\n",
      "City_London            50000 non-null uint8\n",
      "City_Luxembourg        50000 non-null uint8\n",
      "City_Lyon              50000 non-null uint8\n",
      "City_Madrid            50000 non-null uint8\n",
      "City_Milan             50000 non-null uint8\n",
      "City_Munich            50000 non-null uint8\n",
      "City_Oporto            50000 non-null uint8\n",
      "City_Oslo              50000 non-null uint8\n",
      "City_Paris             50000 non-null uint8\n",
      "City_Prague            50000 non-null uint8\n",
      "City_Rome              50000 non-null uint8\n",
      "City_Stockholm         50000 non-null uint8\n",
      "City_Vienna            50000 non-null uint8\n",
      "City_Warsaw            50000 non-null uint8\n",
      "City_Zurich            50000 non-null uint8\n",
      "City_nan               50000 non-null uint8\n",
      "dtypes: float64(3), int64(25), object(5), uint8(32)\n",
      "memory usage: 14.5+ MB\n"
     ]
    }
   ],
   "source": [
    "data.info()"
   ]
  },
  {
   "cell_type": "code",
   "execution_count": 35,
   "metadata": {
    "execution": {
     "iopub.execute_input": "2021-05-29T23:46:25.148167Z",
     "iopub.status.busy": "2021-05-29T23:46:25.147819Z",
     "iopub.status.idle": "2021-05-29T23:46:25.178449Z",
     "shell.execute_reply": "2021-05-29T23:46:25.177521Z",
     "shell.execute_reply.started": "2021-05-29T23:46:25.148111Z"
    }
   },
   "outputs": [
    {
     "data": {
      "text/html": [
       "<div>\n",
       "<style scoped>\n",
       "    .dataframe tbody tr th:only-of-type {\n",
       "        vertical-align: middle;\n",
       "    }\n",
       "\n",
       "    .dataframe tbody tr th {\n",
       "        vertical-align: top;\n",
       "    }\n",
       "\n",
       "    .dataframe thead th {\n",
       "        text-align: right;\n",
       "    }\n",
       "</style>\n",
       "<table border=\"1\" class=\"dataframe\">\n",
       "  <thead>\n",
       "    <tr style=\"text-align: right;\">\n",
       "      <th></th>\n",
       "      <th>Restaurant_id</th>\n",
       "      <th>Cuisine Style</th>\n",
       "      <th>Price Range</th>\n",
       "      <th>Number of Reviews</th>\n",
       "      <th>Reviews</th>\n",
       "      <th>URL_TA</th>\n",
       "      <th>ID_TA</th>\n",
       "      <th>sample</th>\n",
       "      <th>Rating</th>\n",
       "      <th>Vegetarian Friendly</th>\n",
       "      <th>...</th>\n",
       "      <th>City_Oporto</th>\n",
       "      <th>City_Oslo</th>\n",
       "      <th>City_Paris</th>\n",
       "      <th>City_Prague</th>\n",
       "      <th>City_Rome</th>\n",
       "      <th>City_Stockholm</th>\n",
       "      <th>City_Vienna</th>\n",
       "      <th>City_Warsaw</th>\n",
       "      <th>City_Zurich</th>\n",
       "      <th>City_nan</th>\n",
       "    </tr>\n",
       "  </thead>\n",
       "  <tbody>\n",
       "    <tr>\n",
       "      <th>0</th>\n",
       "      <td>id_0</td>\n",
       "      <td>['Bar', 'Pub']</td>\n",
       "      <td>2</td>\n",
       "      <td>4.0</td>\n",
       "      <td>[[], []]</td>\n",
       "      <td>/Restaurant_Review-g187147-d10746918-Reviews-L...</td>\n",
       "      <td>d10746918</td>\n",
       "      <td>0</td>\n",
       "      <td>0.0</td>\n",
       "      <td>0</td>\n",
       "      <td>...</td>\n",
       "      <td>0</td>\n",
       "      <td>0</td>\n",
       "      <td>1</td>\n",
       "      <td>0</td>\n",
       "      <td>0</td>\n",
       "      <td>0</td>\n",
       "      <td>0</td>\n",
       "      <td>0</td>\n",
       "      <td>0</td>\n",
       "      <td>0</td>\n",
       "    </tr>\n",
       "    <tr>\n",
       "      <th>1</th>\n",
       "      <td>id_5</td>\n",
       "      <td>['French', 'Cafe', 'Fast Food']</td>\n",
       "      <td>1</td>\n",
       "      <td>24.0</td>\n",
       "      <td>[['Lunch Break', 'Good to Quick Bite'], ['09/0...</td>\n",
       "      <td>/Restaurant_Review-g187147-d8458643-Reviews-Le...</td>\n",
       "      <td>d8458643</td>\n",
       "      <td>0</td>\n",
       "      <td>0.0</td>\n",
       "      <td>0</td>\n",
       "      <td>...</td>\n",
       "      <td>0</td>\n",
       "      <td>0</td>\n",
       "      <td>1</td>\n",
       "      <td>0</td>\n",
       "      <td>0</td>\n",
       "      <td>0</td>\n",
       "      <td>0</td>\n",
       "      <td>0</td>\n",
       "      <td>0</td>\n",
       "      <td>0</td>\n",
       "    </tr>\n",
       "    <tr>\n",
       "      <th>2</th>\n",
       "      <td>id_15</td>\n",
       "      <td>['French']</td>\n",
       "      <td>1</td>\n",
       "      <td>39.0</td>\n",
       "      <td>[['Very nice food and staff', 'Lovely service ...</td>\n",
       "      <td>/Restaurant_Review-g187147-d7605609-Reviews-Le...</td>\n",
       "      <td>d7605609</td>\n",
       "      <td>0</td>\n",
       "      <td>0.0</td>\n",
       "      <td>0</td>\n",
       "      <td>...</td>\n",
       "      <td>0</td>\n",
       "      <td>0</td>\n",
       "      <td>1</td>\n",
       "      <td>0</td>\n",
       "      <td>0</td>\n",
       "      <td>0</td>\n",
       "      <td>0</td>\n",
       "      <td>0</td>\n",
       "      <td>0</td>\n",
       "      <td>0</td>\n",
       "    </tr>\n",
       "  </tbody>\n",
       "</table>\n",
       "<p>3 rows × 65 columns</p>\n",
       "</div>"
      ],
      "text/plain": [
       "  Restaurant_id                    Cuisine Style  Price Range  \\\n",
       "0          id_0                   ['Bar', 'Pub']            2   \n",
       "1          id_5  ['French', 'Cafe', 'Fast Food']            1   \n",
       "2         id_15                       ['French']            1   \n",
       "\n",
       "   Number of Reviews                                            Reviews  \\\n",
       "0                4.0                                           [[], []]   \n",
       "1               24.0  [['Lunch Break', 'Good to Quick Bite'], ['09/0...   \n",
       "2               39.0  [['Very nice food and staff', 'Lovely service ...   \n",
       "\n",
       "                                              URL_TA      ID_TA  sample  \\\n",
       "0  /Restaurant_Review-g187147-d10746918-Reviews-L...  d10746918       0   \n",
       "1  /Restaurant_Review-g187147-d8458643-Reviews-Le...   d8458643       0   \n",
       "2  /Restaurant_Review-g187147-d7605609-Reviews-Le...   d7605609       0   \n",
       "\n",
       "   Rating  Vegetarian Friendly  ...  City_Oporto  City_Oslo  City_Paris  \\\n",
       "0     0.0                    0  ...            0          0           1   \n",
       "1     0.0                    0  ...            0          0           1   \n",
       "2     0.0                    0  ...            0          0           1   \n",
       "\n",
       "   City_Prague  City_Rome  City_Stockholm  City_Vienna  City_Warsaw  \\\n",
       "0            0          0               0            0            0   \n",
       "1            0          0               0            0            0   \n",
       "2            0          0               0            0            0   \n",
       "\n",
       "   City_Zurich  City_nan  \n",
       "0            0         0  \n",
       "1            0         0  \n",
       "2            0         0  \n",
       "\n",
       "[3 rows x 65 columns]"
      ]
     },
     "execution_count": 35,
     "metadata": {},
     "output_type": "execute_result"
    }
   ],
   "source": [
    "data.head(3)"
   ]
  },
  {
   "cell_type": "markdown",
   "metadata": {},
   "source": [
    "### **Обработка поля Number of Reviews**"
   ]
  },
  {
   "cell_type": "code",
   "execution_count": 36,
   "metadata": {
    "execution": {
     "iopub.execute_input": "2021-05-29T23:48:24.038361Z",
     "iopub.status.busy": "2021-05-29T23:48:24.038054Z",
     "iopub.status.idle": "2021-05-29T23:48:24.318776Z",
     "shell.execute_reply": "2021-05-29T23:48:24.317748Z",
     "shell.execute_reply.started": "2021-05-29T23:48:24.038315Z"
    }
   },
   "outputs": [
    {
     "data": {
      "text/plain": [
       "<matplotlib.axes._subplots.AxesSubplot at 0x7f941407f518>"
      ]
     },
     "execution_count": 36,
     "metadata": {},
     "output_type": "execute_result"
    },
    {
     "data": {
      "image/png": "[encoded data removed]",
      "text/plain": [
       "<Figure size 720x504 with 1 Axes>"
      ]
     },
     "metadata": {
      "needs_background": "light"
     },
     "output_type": "display_data"
    }
   ],
   "source": [
    "data['Number of Reviews'].hist()"
   ]
  },
  {
   "cell_type": "code",
   "execution_count": 37,
   "metadata": {
    "execution": {
     "iopub.execute_input": "2021-05-29T23:49:17.975970Z",
     "iopub.status.busy": "2021-05-29T23:49:17.975442Z",
     "iopub.status.idle": "2021-05-29T23:49:17.982446Z",
     "shell.execute_reply": "2021-05-29T23:49:17.981603Z",
     "shell.execute_reply.started": "2021-05-29T23:49:17.975915Z"
    }
   },
   "outputs": [
    {
     "data": {
      "text/plain": [
       "9660.0"
      ]
     },
     "execution_count": 37,
     "metadata": {},
     "output_type": "execute_result"
    }
   ],
   "source": [
    "data.head()\n",
    "data['Number of Reviews'].min()\n",
    "data['Number of Reviews'].max()"
   ]
  },
  {
   "cell_type": "code",
   "execution_count": 38,
   "metadata": {
    "execution": {
     "iopub.execute_input": "2021-05-29T23:49:41.018824Z",
     "iopub.status.busy": "2021-05-29T23:49:41.018448Z",
     "iopub.status.idle": "2021-05-29T23:49:41.024766Z",
     "shell.execute_reply": "2021-05-29T23:49:41.023621Z",
     "shell.execute_reply.started": "2021-05-29T23:49:41.018766Z"
    }
   },
   "outputs": [],
   "source": [
    "#Полe числовое, достаточно обработать Nan\n",
    "data['Number of Reviews'].fillna(0, inplace=True)\n"
   ]
  },
  {
   "cell_type": "code",
   "execution_count": 39,
   "metadata": {
    "execution": {
     "iopub.execute_input": "2021-05-29T23:51:27.649319Z",
     "iopub.status.busy": "2021-05-29T23:51:27.649005Z",
     "iopub.status.idle": "2021-05-29T23:51:27.697671Z",
     "shell.execute_reply": "2021-05-29T23:51:27.696848Z",
     "shell.execute_reply.started": "2021-05-29T23:51:27.649272Z"
    }
   },
   "outputs": [
    {
     "name": "stdout",
     "output_type": "stream",
     "text": [
      "<class 'pandas.core.frame.DataFrame'>\n",
      "Int64Index: 50000 entries, 0 to 49999\n",
      "Data columns (total 65 columns):\n",
      "Restaurant_id          50000 non-null object\n",
      "Cuisine Style          50000 non-null object\n",
      "Price Range            50000 non-null int64\n",
      "Number of Reviews      50000 non-null float64\n",
      "Reviews                50000 non-null object\n",
      "URL_TA                 50000 non-null object\n",
      "ID_TA                  50000 non-null object\n",
      "sample                 50000 non-null int64\n",
      "Rating                 50000 non-null float64\n",
      "Vegetarian Friendly    50000 non-null int64\n",
      "European               50000 non-null int64\n",
      "Cuisine_Style_Nan      50000 non-null int64\n",
      "Mediterranean          50000 non-null int64\n",
      "Italian                50000 non-null int64\n",
      "Vegan Options          50000 non-null int64\n",
      "Gluten Free Options    50000 non-null int64\n",
      "Bar                    50000 non-null int64\n",
      "French                 50000 non-null int64\n",
      "Asian                  50000 non-null int64\n",
      "Pizza                  50000 non-null int64\n",
      "Spanish                50000 non-null int64\n",
      "Pub                    50000 non-null int64\n",
      "Cafe                   50000 non-null int64\n",
      "Fast Food              50000 non-null int64\n",
      "British                50000 non-null int64\n",
      "International          50000 non-null int64\n",
      "Seafood                50000 non-null int64\n",
      "Japanese               50000 non-null int64\n",
      "Central European       50000 non-null int64\n",
      "Other Style            50000 non-null int64\n",
      "good_words             50000 non-null int64\n",
      "bad_words              50000 non-null int64\n",
      "Ranking_corr           50000 non-null float64\n",
      "City_Amsterdam         50000 non-null uint8\n",
      "City_Athens            50000 non-null uint8\n",
      "City_Barcelona         50000 non-null uint8\n",
      "City_Berlin            50000 non-null uint8\n",
      "City_Bratislava        50000 non-null uint8\n",
      "City_Brussels          50000 non-null uint8\n",
      "City_Budapest          50000 non-null uint8\n",
      "City_Copenhagen        50000 non-null uint8\n",
      "City_Dublin            50000 non-null uint8\n",
      "City_Edinburgh         50000 non-null uint8\n",
      "City_Geneva            50000 non-null uint8\n",
      "City_Hamburg           50000 non-null uint8\n",
      "City_Helsinki          50000 non-null uint8\n",
      "City_Krakow            50000 non-null uint8\n",
      "City_Lisbon            50000 non-null uint8\n",
      "City_Ljubljana         50000 non-null uint8\n",
      "City_London            50000 non-null uint8\n",
      "City_Luxembourg        50000 non-null uint8\n",
      "City_Lyon              50000 non-null uint8\n",
      "City_Madrid            50000 non-null uint8\n",
      "City_Milan             50000 non-null uint8\n",
      "City_Munich            50000 non-null uint8\n",
      "City_Oporto            50000 non-null uint8\n",
      "City_Oslo              50000 non-null uint8\n",
      "City_Paris             50000 non-null uint8\n",
      "City_Prague            50000 non-null uint8\n",
      "City_Rome              50000 non-null uint8\n",
      "City_Stockholm         50000 non-null uint8\n",
      "City_Vienna            50000 non-null uint8\n",
      "City_Warsaw            50000 non-null uint8\n",
      "City_Zurich            50000 non-null uint8\n",
      "City_nan               50000 non-null uint8\n",
      "dtypes: float64(3), int64(25), object(5), uint8(32)\n",
      "memory usage: 14.5+ MB\n"
     ]
    }
   ],
   "source": [
    "data.info()"
   ]
  },
  {
   "cell_type": "markdown",
   "metadata": {},
   "source": [
    "### Посмотрим распределение целевой переменной"
   ]
  },
  {
   "cell_type": "code",
   "execution_count": 40,
   "metadata": {
    "collapsed": true,
    "execution": {
     "iopub.execute_input": "2021-05-29T23:53:16.708069Z",
     "iopub.status.busy": "2021-05-29T23:53:16.707642Z",
     "iopub.status.idle": "2021-05-29T23:53:16.970102Z",
     "shell.execute_reply": "2021-05-29T23:53:16.969036Z",
     "shell.execute_reply.started": "2021-05-29T23:53:16.708030Z"
    },
    "jupyter": {
     "outputs_hidden": true
    }
   },
   "outputs": [
    {
     "data": {
      "text/plain": [
       "<matplotlib.axes._subplots.AxesSubplot at 0x7f9414010cf8>"
      ]
     },
     "execution_count": 40,
     "metadata": {},
     "output_type": "execute_result"
    },
    {
     "data": {
      "image/png": "[encoded data removed]",
      "text/plain": [
       "<Figure size 720x504 with 1 Axes>"
      ]
     },
     "metadata": {
      "needs_background": "light"
     },
     "output_type": "display_data"
    }
   ],
   "source": [
    "df_train['Rating'].value_counts(ascending=True).plot(kind='barh')"
   ]
  },
  {
   "cell_type": "markdown",
   "metadata": {},
   "source": [
    "### Посмотрим распределение целевой переменной относительно признака"
   ]
  },
  {
   "cell_type": "code",
   "execution_count": 41,
   "metadata": {
    "execution": {
     "iopub.execute_input": "2021-05-29T10:26:16.362688Z",
     "iopub.status.busy": "2021-05-29T10:26:16.362203Z",
     "iopub.status.idle": "2021-05-29T10:26:16.857792Z",
     "shell.execute_reply": "2021-05-29T10:26:16.856524Z",
     "shell.execute_reply.started": "2021-05-29T10:26:16.362626Z"
    }
   },
   "outputs": [
    {
     "data": {
      "text/plain": [
       "<matplotlib.axes._subplots.AxesSubplot at 0x7f940774f160>"
      ]
     },
     "execution_count": 41,
     "metadata": {},
     "output_type": "execute_result"
    },
    {
     "data": {
      "image/png": "[encoded data removed]",
      "text/plain": [
       "<Figure size 720x504 with 1 Axes>"
      ]
     },
     "metadata": {
      "needs_background": "light"
     },
     "output_type": "display_data"
    }
   ],
   "source": [
    "df_train['Ranking'][df_train['Rating'] == 5].hist(bins=100)"
   ]
  },
  {
   "cell_type": "code",
   "execution_count": 42,
   "metadata": {
    "execution": {
     "iopub.execute_input": "2021-05-29T10:26:52.084464Z",
     "iopub.status.busy": "2021-05-29T10:26:52.084152Z",
     "iopub.status.idle": "2021-05-29T10:26:52.716776Z",
     "shell.execute_reply": "2021-05-29T10:26:52.715458Z",
     "shell.execute_reply.started": "2021-05-29T10:26:52.084425Z"
    }
   },
   "outputs": [
    {
     "data": {
      "text/plain": [
       "<matplotlib.axes._subplots.AxesSubplot at 0x7f9404bf0668>"
      ]
     },
     "execution_count": 42,
     "metadata": {},
     "output_type": "execute_result"
    },
    {
     "data": {
      "image/png": "[encoded data removed]",
      "text/plain": [
       "<Figure size 720x504 with 1 Axes>"
      ]
     },
     "metadata": {
      "needs_background": "light"
     },
     "output_type": "display_data"
    }
   ],
   "source": [
    "df_train['Ranking'][df_train['Rating'] < 4].hist(bins=100)"
   ]
  },
  {
   "cell_type": "markdown",
   "metadata": {},
   "source": [
    "### И один из моих любимых - [корреляция признаков](https://ru.wikipedia.org/wiki/Корреляция)\n",
    "На этом графике уже сейчас вы сможете заметить, как признаки связаны между собой и с целевой переменной."
   ]
  },
  {
   "cell_type": "code",
   "execution_count": 43,
   "metadata": {
    "execution": {
     "iopub.execute_input": "2021-05-29T23:53:56.854168Z",
     "iopub.status.busy": "2021-05-29T23:53:56.853697Z",
     "iopub.status.idle": "2021-05-29T23:53:59.056947Z",
     "shell.execute_reply": "2021-05-29T23:53:59.055916Z",
     "shell.execute_reply.started": "2021-05-29T23:53:56.854121Z"
    }
   },
   "outputs": [
    {
     "data": {
      "text/plain": [
       "<matplotlib.axes._subplots.AxesSubplot at 0x7f9404ae9e48>"
      ]
     },
     "execution_count": 43,
     "metadata": {},
     "output_type": "execute_result"
    },
    {
     "data": {
      "image/png": "[encoded data removed]",
      "text/plain": [
       "<Figure size 1080x720 with 2 Axes>"
      ]
     },
     "metadata": {
      "needs_background": "light"
     },
     "output_type": "display_data"
    }
   ],
   "source": [
    "plt.rcParams['figure.figsize'] = (15,10)\n",
    "sns.heatmap(data.drop(['sample'], axis=1).corr(),)"
   ]
  },
  {
   "cell_type": "markdown",
   "metadata": {},
   "source": [
    "Вообще благодаря визуализации в этом датасете можно узнать много интересных фактов, например:\n",
    "* где больше Пицерий в Мадриде или Лондоне?\n",
    "* в каком городе кухня ресторанов более разнообразна?\n",
    "\n",
    "придумайте свои вопрос и найдите на него ответ в данных)"
   ]
  },
  {
   "cell_type": "markdown",
   "metadata": {},
   "source": [
    "### **убираем признаки которые еще не успели обработать,** \n",
    "### **модель на признаках с dtypes \"object\" обучаться не будет, просто выберим их и удалим**"
   ]
  },
  {
   "cell_type": "code",
   "execution_count": 44,
   "metadata": {
    "execution": {
     "iopub.execute_input": "2021-05-30T00:09:05.329598Z",
     "iopub.status.busy": "2021-05-30T00:09:05.328933Z",
     "iopub.status.idle": "2021-05-30T00:09:05.346032Z",
     "shell.execute_reply": "2021-05-30T00:09:05.344967Z",
     "shell.execute_reply.started": "2021-05-30T00:09:05.329506Z"
    }
   },
   "outputs": [],
   "source": [
    "object_columns = [s for s in data.columns if data[s].dtypes == 'object']\n",
    "data.drop(object_columns, axis = 1, inplace=True)"
   ]
  },
  {
   "cell_type": "markdown",
   "metadata": {},
   "source": [
    "#### Запускаем и проверяем что получилось"
   ]
  },
  {
   "cell_type": "code",
   "execution_count": 45,
   "metadata": {
    "execution": {
     "iopub.execute_input": "2021-05-30T00:10:32.776306Z",
     "iopub.status.busy": "2021-05-30T00:10:32.775967Z",
     "iopub.status.idle": "2021-05-30T00:10:32.807737Z",
     "shell.execute_reply": "2021-05-30T00:10:32.806664Z",
     "shell.execute_reply.started": "2021-05-30T00:10:32.776248Z"
    }
   },
   "outputs": [
    {
     "data": {
      "text/html": [
       "<div>\n",
       "<style scoped>\n",
       "    .dataframe tbody tr th:only-of-type {\n",
       "        vertical-align: middle;\n",
       "    }\n",
       "\n",
       "    .dataframe tbody tr th {\n",
       "        vertical-align: top;\n",
       "    }\n",
       "\n",
       "    .dataframe thead th {\n",
       "        text-align: right;\n",
       "    }\n",
       "</style>\n",
       "<table border=\"1\" class=\"dataframe\">\n",
       "  <thead>\n",
       "    <tr style=\"text-align: right;\">\n",
       "      <th></th>\n",
       "      <th>Price Range</th>\n",
       "      <th>Number of Reviews</th>\n",
       "      <th>sample</th>\n",
       "      <th>Rating</th>\n",
       "      <th>Vegetarian Friendly</th>\n",
       "      <th>European</th>\n",
       "      <th>Cuisine_Style_Nan</th>\n",
       "      <th>Mediterranean</th>\n",
       "      <th>Italian</th>\n",
       "      <th>Vegan Options</th>\n",
       "      <th>...</th>\n",
       "      <th>City_Oporto</th>\n",
       "      <th>City_Oslo</th>\n",
       "      <th>City_Paris</th>\n",
       "      <th>City_Prague</th>\n",
       "      <th>City_Rome</th>\n",
       "      <th>City_Stockholm</th>\n",
       "      <th>City_Vienna</th>\n",
       "      <th>City_Warsaw</th>\n",
       "      <th>City_Zurich</th>\n",
       "      <th>City_nan</th>\n",
       "    </tr>\n",
       "  </thead>\n",
       "  <tbody>\n",
       "    <tr>\n",
       "      <th>38287</th>\n",
       "      <td>2</td>\n",
       "      <td>176.0</td>\n",
       "      <td>1</td>\n",
       "      <td>4.0</td>\n",
       "      <td>1</td>\n",
       "      <td>1</td>\n",
       "      <td>0</td>\n",
       "      <td>1</td>\n",
       "      <td>0</td>\n",
       "      <td>1</td>\n",
       "      <td>...</td>\n",
       "      <td>0</td>\n",
       "      <td>0</td>\n",
       "      <td>0</td>\n",
       "      <td>0</td>\n",
       "      <td>0</td>\n",
       "      <td>0</td>\n",
       "      <td>0</td>\n",
       "      <td>0</td>\n",
       "      <td>0</td>\n",
       "      <td>0</td>\n",
       "    </tr>\n",
       "    <tr>\n",
       "      <th>19096</th>\n",
       "      <td>1</td>\n",
       "      <td>497.0</td>\n",
       "      <td>0</td>\n",
       "      <td>0.0</td>\n",
       "      <td>1</td>\n",
       "      <td>0</td>\n",
       "      <td>0</td>\n",
       "      <td>1</td>\n",
       "      <td>1</td>\n",
       "      <td>1</td>\n",
       "      <td>...</td>\n",
       "      <td>0</td>\n",
       "      <td>0</td>\n",
       "      <td>0</td>\n",
       "      <td>0</td>\n",
       "      <td>1</td>\n",
       "      <td>0</td>\n",
       "      <td>0</td>\n",
       "      <td>0</td>\n",
       "      <td>0</td>\n",
       "      <td>0</td>\n",
       "    </tr>\n",
       "    <tr>\n",
       "      <th>23488</th>\n",
       "      <td>1</td>\n",
       "      <td>50.0</td>\n",
       "      <td>1</td>\n",
       "      <td>4.0</td>\n",
       "      <td>0</td>\n",
       "      <td>0</td>\n",
       "      <td>0</td>\n",
       "      <td>0</td>\n",
       "      <td>1</td>\n",
       "      <td>0</td>\n",
       "      <td>...</td>\n",
       "      <td>0</td>\n",
       "      <td>0</td>\n",
       "      <td>0</td>\n",
       "      <td>0</td>\n",
       "      <td>0</td>\n",
       "      <td>0</td>\n",
       "      <td>0</td>\n",
       "      <td>0</td>\n",
       "      <td>0</td>\n",
       "      <td>0</td>\n",
       "    </tr>\n",
       "    <tr>\n",
       "      <th>29183</th>\n",
       "      <td>0</td>\n",
       "      <td>24.0</td>\n",
       "      <td>1</td>\n",
       "      <td>4.5</td>\n",
       "      <td>0</td>\n",
       "      <td>0</td>\n",
       "      <td>1</td>\n",
       "      <td>0</td>\n",
       "      <td>0</td>\n",
       "      <td>0</td>\n",
       "      <td>...</td>\n",
       "      <td>0</td>\n",
       "      <td>0</td>\n",
       "      <td>0</td>\n",
       "      <td>0</td>\n",
       "      <td>0</td>\n",
       "      <td>0</td>\n",
       "      <td>1</td>\n",
       "      <td>0</td>\n",
       "      <td>0</td>\n",
       "      <td>0</td>\n",
       "    </tr>\n",
       "    <tr>\n",
       "      <th>14644</th>\n",
       "      <td>1</td>\n",
       "      <td>23.0</td>\n",
       "      <td>1</td>\n",
       "      <td>4.5</td>\n",
       "      <td>1</td>\n",
       "      <td>1</td>\n",
       "      <td>0</td>\n",
       "      <td>0</td>\n",
       "      <td>0</td>\n",
       "      <td>1</td>\n",
       "      <td>...</td>\n",
       "      <td>0</td>\n",
       "      <td>0</td>\n",
       "      <td>0</td>\n",
       "      <td>0</td>\n",
       "      <td>0</td>\n",
       "      <td>0</td>\n",
       "      <td>0</td>\n",
       "      <td>0</td>\n",
       "      <td>0</td>\n",
       "      <td>0</td>\n",
       "    </tr>\n",
       "    <tr>\n",
       "      <th>43976</th>\n",
       "      <td>1</td>\n",
       "      <td>32.0</td>\n",
       "      <td>1</td>\n",
       "      <td>3.5</td>\n",
       "      <td>0</td>\n",
       "      <td>0</td>\n",
       "      <td>0</td>\n",
       "      <td>0</td>\n",
       "      <td>0</td>\n",
       "      <td>0</td>\n",
       "      <td>...</td>\n",
       "      <td>0</td>\n",
       "      <td>0</td>\n",
       "      <td>0</td>\n",
       "      <td>0</td>\n",
       "      <td>0</td>\n",
       "      <td>0</td>\n",
       "      <td>0</td>\n",
       "      <td>0</td>\n",
       "      <td>0</td>\n",
       "      <td>0</td>\n",
       "    </tr>\n",
       "    <tr>\n",
       "      <th>30187</th>\n",
       "      <td>2</td>\n",
       "      <td>11.0</td>\n",
       "      <td>1</td>\n",
       "      <td>4.0</td>\n",
       "      <td>0</td>\n",
       "      <td>0</td>\n",
       "      <td>0</td>\n",
       "      <td>0</td>\n",
       "      <td>0</td>\n",
       "      <td>0</td>\n",
       "      <td>...</td>\n",
       "      <td>0</td>\n",
       "      <td>0</td>\n",
       "      <td>0</td>\n",
       "      <td>0</td>\n",
       "      <td>0</td>\n",
       "      <td>0</td>\n",
       "      <td>0</td>\n",
       "      <td>0</td>\n",
       "      <td>0</td>\n",
       "      <td>0</td>\n",
       "    </tr>\n",
       "    <tr>\n",
       "      <th>43255</th>\n",
       "      <td>0</td>\n",
       "      <td>14.0</td>\n",
       "      <td>1</td>\n",
       "      <td>4.5</td>\n",
       "      <td>0</td>\n",
       "      <td>0</td>\n",
       "      <td>1</td>\n",
       "      <td>0</td>\n",
       "      <td>0</td>\n",
       "      <td>0</td>\n",
       "      <td>...</td>\n",
       "      <td>0</td>\n",
       "      <td>0</td>\n",
       "      <td>0</td>\n",
       "      <td>0</td>\n",
       "      <td>0</td>\n",
       "      <td>0</td>\n",
       "      <td>0</td>\n",
       "      <td>0</td>\n",
       "      <td>0</td>\n",
       "      <td>0</td>\n",
       "    </tr>\n",
       "    <tr>\n",
       "      <th>8110</th>\n",
       "      <td>0</td>\n",
       "      <td>2.0</td>\n",
       "      <td>0</td>\n",
       "      <td>0.0</td>\n",
       "      <td>0</td>\n",
       "      <td>0</td>\n",
       "      <td>1</td>\n",
       "      <td>0</td>\n",
       "      <td>0</td>\n",
       "      <td>0</td>\n",
       "      <td>...</td>\n",
       "      <td>0</td>\n",
       "      <td>0</td>\n",
       "      <td>0</td>\n",
       "      <td>0</td>\n",
       "      <td>0</td>\n",
       "      <td>0</td>\n",
       "      <td>0</td>\n",
       "      <td>0</td>\n",
       "      <td>0</td>\n",
       "      <td>0</td>\n",
       "    </tr>\n",
       "    <tr>\n",
       "      <th>16867</th>\n",
       "      <td>2</td>\n",
       "      <td>21.0</td>\n",
       "      <td>1</td>\n",
       "      <td>4.0</td>\n",
       "      <td>0</td>\n",
       "      <td>1</td>\n",
       "      <td>0</td>\n",
       "      <td>0</td>\n",
       "      <td>0</td>\n",
       "      <td>0</td>\n",
       "      <td>...</td>\n",
       "      <td>0</td>\n",
       "      <td>0</td>\n",
       "      <td>0</td>\n",
       "      <td>0</td>\n",
       "      <td>0</td>\n",
       "      <td>0</td>\n",
       "      <td>0</td>\n",
       "      <td>0</td>\n",
       "      <td>0</td>\n",
       "      <td>0</td>\n",
       "    </tr>\n",
       "  </tbody>\n",
       "</table>\n",
       "<p>10 rows × 60 columns</p>\n",
       "</div>"
      ],
      "text/plain": [
       "       Price Range  Number of Reviews  sample  Rating  Vegetarian Friendly  \\\n",
       "38287            2              176.0       1     4.0                    1   \n",
       "19096            1              497.0       0     0.0                    1   \n",
       "23488            1               50.0       1     4.0                    0   \n",
       "29183            0               24.0       1     4.5                    0   \n",
       "14644            1               23.0       1     4.5                    1   \n",
       "43976            1               32.0       1     3.5                    0   \n",
       "30187            2               11.0       1     4.0                    0   \n",
       "43255            0               14.0       1     4.5                    0   \n",
       "8110             0                2.0       0     0.0                    0   \n",
       "16867            2               21.0       1     4.0                    0   \n",
       "\n",
       "       European  Cuisine_Style_Nan  Mediterranean  Italian  Vegan Options  \\\n",
       "38287         1                  0              1        0              1   \n",
       "19096         0                  0              1        1              1   \n",
       "23488         0                  0              0        1              0   \n",
       "29183         0                  1              0        0              0   \n",
       "14644         1                  0              0        0              1   \n",
       "43976         0                  0              0        0              0   \n",
       "30187         0                  0              0        0              0   \n",
       "43255         0                  1              0        0              0   \n",
       "8110          0                  1              0        0              0   \n",
       "16867         1                  0              0        0              0   \n",
       "\n",
       "       ...  City_Oporto  City_Oslo  City_Paris  City_Prague  City_Rome  \\\n",
       "38287  ...            0          0           0            0          0   \n",
       "19096  ...            0          0           0            0          1   \n",
       "23488  ...            0          0           0            0          0   \n",
       "29183  ...            0          0           0            0          0   \n",
       "14644  ...            0          0           0            0          0   \n",
       "43976  ...            0          0           0            0          0   \n",
       "30187  ...            0          0           0            0          0   \n",
       "43255  ...            0          0           0            0          0   \n",
       "8110   ...            0          0           0            0          0   \n",
       "16867  ...            0          0           0            0          0   \n",
       "\n",
       "       City_Stockholm  City_Vienna  City_Warsaw  City_Zurich  City_nan  \n",
       "38287               0            0            0            0         0  \n",
       "19096               0            0            0            0         0  \n",
       "23488               0            0            0            0         0  \n",
       "29183               0            1            0            0         0  \n",
       "14644               0            0            0            0         0  \n",
       "43976               0            0            0            0         0  \n",
       "30187               0            0            0            0         0  \n",
       "43255               0            0            0            0         0  \n",
       "8110                0            0            0            0         0  \n",
       "16867               0            0            0            0         0  \n",
       "\n",
       "[10 rows x 60 columns]"
      ]
     },
     "execution_count": 45,
     "metadata": {},
     "output_type": "execute_result"
    }
   ],
   "source": [
    "data.sample(10)"
   ]
  },
  {
   "cell_type": "code",
   "execution_count": 46,
   "metadata": {
    "execution": {
     "iopub.execute_input": "2021-05-30T00:10:39.543834Z",
     "iopub.status.busy": "2021-05-30T00:10:39.543488Z",
     "iopub.status.idle": "2021-05-30T00:10:39.566871Z",
     "shell.execute_reply": "2021-05-30T00:10:39.565734Z",
     "shell.execute_reply.started": "2021-05-30T00:10:39.543787Z"
    }
   },
   "outputs": [
    {
     "name": "stdout",
     "output_type": "stream",
     "text": [
      "<class 'pandas.core.frame.DataFrame'>\n",
      "Int64Index: 50000 entries, 0 to 49999\n",
      "Data columns (total 60 columns):\n",
      "Price Range            50000 non-null int64\n",
      "Number of Reviews      50000 non-null float64\n",
      "sample                 50000 non-null int64\n",
      "Rating                 50000 non-null float64\n",
      "Vegetarian Friendly    50000 non-null int64\n",
      "European               50000 non-null int64\n",
      "Cuisine_Style_Nan      50000 non-null int64\n",
      "Mediterranean          50000 non-null int64\n",
      "Italian                50000 non-null int64\n",
      "Vegan Options          50000 non-null int64\n",
      "Gluten Free Options    50000 non-null int64\n",
      "Bar                    50000 non-null int64\n",
      "French                 50000 non-null int64\n",
      "Asian                  50000 non-null int64\n",
      "Pizza                  50000 non-null int64\n",
      "Spanish                50000 non-null int64\n",
      "Pub                    50000 non-null int64\n",
      "Cafe                   50000 non-null int64\n",
      "Fast Food              50000 non-null int64\n",
      "British                50000 non-null int64\n",
      "International          50000 non-null int64\n",
      "Seafood                50000 non-null int64\n",
      "Japanese               50000 non-null int64\n",
      "Central European       50000 non-null int64\n",
      "Other Style            50000 non-null int64\n",
      "good_words             50000 non-null int64\n",
      "bad_words              50000 non-null int64\n",
      "Ranking_corr           50000 non-null float64\n",
      "City_Amsterdam         50000 non-null uint8\n",
      "City_Athens            50000 non-null uint8\n",
      "City_Barcelona         50000 non-null uint8\n",
      "City_Berlin            50000 non-null uint8\n",
      "City_Bratislava        50000 non-null uint8\n",
      "City_Brussels          50000 non-null uint8\n",
      "City_Budapest          50000 non-null uint8\n",
      "City_Copenhagen        50000 non-null uint8\n",
      "City_Dublin            50000 non-null uint8\n",
      "City_Edinburgh         50000 non-null uint8\n",
      "City_Geneva            50000 non-null uint8\n",
      "City_Hamburg           50000 non-null uint8\n",
      "City_Helsinki          50000 non-null uint8\n",
      "City_Krakow            50000 non-null uint8\n",
      "City_Lisbon            50000 non-null uint8\n",
      "City_Ljubljana         50000 non-null uint8\n",
      "City_London            50000 non-null uint8\n",
      "City_Luxembourg        50000 non-null uint8\n",
      "City_Lyon              50000 non-null uint8\n",
      "City_Madrid            50000 non-null uint8\n",
      "City_Milan             50000 non-null uint8\n",
      "City_Munich            50000 non-null uint8\n",
      "City_Oporto            50000 non-null uint8\n",
      "City_Oslo              50000 non-null uint8\n",
      "City_Paris             50000 non-null uint8\n",
      "City_Prague            50000 non-null uint8\n",
      "City_Rome              50000 non-null uint8\n",
      "City_Stockholm         50000 non-null uint8\n",
      "City_Vienna            50000 non-null uint8\n",
      "City_Warsaw            50000 non-null uint8\n",
      "City_Zurich            50000 non-null uint8\n",
      "City_nan               50000 non-null uint8\n",
      "dtypes: float64(3), int64(25), uint8(32)\n",
      "memory usage: 12.6 MB\n"
     ]
    }
   ],
   "source": [
    "data.info()"
   ]
  },
  {
   "cell_type": "code",
   "execution_count": 47,
   "metadata": {
    "execution": {
     "iopub.execute_input": "2021-05-30T00:11:26.532608Z",
     "iopub.status.busy": "2021-05-30T00:11:26.532243Z",
     "iopub.status.idle": "2021-05-30T00:11:26.568629Z",
     "shell.execute_reply": "2021-05-30T00:11:26.567711Z",
     "shell.execute_reply.started": "2021-05-30T00:11:26.532549Z"
    }
   },
   "outputs": [],
   "source": [
    "# Теперь выделим тестовую часть\n",
    "train_data = data.query('sample == 1').drop(['sample'], axis=1)\n",
    "test_data = data.query('sample == 0').drop(['sample'], axis=1)\n",
    "\n",
    "y = train_data.Rating.values            # наш таргет\n",
    "X = train_data.drop(['Rating'], axis=1)"
   ]
  },
  {
   "cell_type": "markdown",
   "metadata": {},
   "source": [
    "**Перед тем как отправлять наши данные на обучение, разделим данные на еще один тест и трейн, для валидации. \n",
    "Это поможет нам проверить, как хорошо наша модель работает, до отправки submissiona на kaggle.**"
   ]
  },
  {
   "cell_type": "code",
   "execution_count": 48,
   "metadata": {
    "execution": {
     "iopub.execute_input": "2021-05-30T00:11:49.031389Z",
     "iopub.status.busy": "2021-05-30T00:11:49.030946Z",
     "iopub.status.idle": "2021-05-30T00:11:49.050956Z",
     "shell.execute_reply": "2021-05-30T00:11:49.049738Z",
     "shell.execute_reply.started": "2021-05-30T00:11:49.031331Z"
    }
   },
   "outputs": [],
   "source": [
    "# Воспользуемся специальной функцие train_test_split для разбивки тестовых данных\n",
    "# выделим 20% данных на валидацию (параметр test_size)\n",
    "X_train, X_test, y_train, y_test = train_test_split(X, y, test_size=0.2, random_state=RANDOM_SEED)"
   ]
  },
  {
   "cell_type": "code",
   "execution_count": 49,
   "metadata": {
    "execution": {
     "iopub.execute_input": "2021-05-30T00:11:55.069421Z",
     "iopub.status.busy": "2021-05-30T00:11:55.069080Z",
     "iopub.status.idle": "2021-05-30T00:11:55.075978Z",
     "shell.execute_reply": "2021-05-30T00:11:55.075171Z",
     "shell.execute_reply.started": "2021-05-30T00:11:55.069364Z"
    }
   },
   "outputs": [
    {
     "data": {
      "text/plain": [
       "((10000, 59), (40000, 59), (40000, 58), (32000, 58), (8000, 58))"
      ]
     },
     "execution_count": 49,
     "metadata": {},
     "output_type": "execute_result"
    }
   ],
   "source": [
    "# проверяем\n",
    "test_data.shape, train_data.shape, X.shape, X_train.shape, X_test.shape"
   ]
  },
  {
   "cell_type": "markdown",
   "metadata": {},
   "source": [
    "# Model \n",
    "Сам ML"
   ]
  },
  {
   "cell_type": "code",
   "execution_count": 50,
   "metadata": {
    "execution": {
     "iopub.execute_input": "2021-05-30T00:12:16.159665Z",
     "iopub.status.busy": "2021-05-30T00:12:16.159346Z",
     "iopub.status.idle": "2021-05-30T00:12:16.325427Z",
     "shell.execute_reply": "2021-05-30T00:12:16.324553Z",
     "shell.execute_reply.started": "2021-05-30T00:12:16.159628Z"
    }
   },
   "outputs": [],
   "source": [
    "# Импортируем необходимые библиотеки:\n",
    "from sklearn.ensemble import RandomForestRegressor # инструмент для создания и обучения модели\n",
    "from sklearn import metrics # инструменты для оценки точности модели"
   ]
  },
  {
   "cell_type": "code",
   "execution_count": 51,
   "metadata": {
    "execution": {
     "iopub.execute_input": "2021-05-30T00:12:23.066728Z",
     "iopub.status.busy": "2021-05-30T00:12:23.066197Z",
     "iopub.status.idle": "2021-05-30T00:12:23.072121Z",
     "shell.execute_reply": "2021-05-30T00:12:23.071062Z",
     "shell.execute_reply.started": "2021-05-30T00:12:23.066658Z"
    }
   },
   "outputs": [],
   "source": [
    "# Создаём модель (НАСТРОЙКИ НЕ ТРОГАЕМ)\n",
    "model = RandomForestRegressor(n_estimators=100, verbose=1, n_jobs=-1, random_state=RANDOM_SEED)"
   ]
  },
  {
   "cell_type": "code",
   "execution_count": 52,
   "metadata": {
    "execution": {
     "iopub.execute_input": "2021-05-30T00:12:30.512449Z",
     "iopub.status.busy": "2021-05-30T00:12:30.511955Z",
     "iopub.status.idle": "2021-05-30T00:12:38.818749Z",
     "shell.execute_reply": "2021-05-30T00:12:38.817950Z",
     "shell.execute_reply.started": "2021-05-30T00:12:30.512386Z"
    }
   },
   "outputs": [
    {
     "name": "stderr",
     "output_type": "stream",
     "text": [
      "[Parallel(n_jobs=-1)]: Using backend ThreadingBackend with 4 concurrent workers.\n",
      "[Parallel(n_jobs=-1)]: Done  42 tasks      | elapsed:    3.5s\n",
      "[Parallel(n_jobs=-1)]: Done 100 out of 100 | elapsed:    8.1s finished\n",
      "[Parallel(n_jobs=4)]: Using backend ThreadingBackend with 4 concurrent workers.\n",
      "[Parallel(n_jobs=4)]: Done  42 tasks      | elapsed:    0.0s\n",
      "[Parallel(n_jobs=4)]: Done 100 out of 100 | elapsed:    0.1s finished\n"
     ]
    }
   ],
   "source": [
    "# Обучаем модель на тестовом наборе данных\n",
    "model.fit(X_train, y_train)\n",
    "\n",
    "# Используем обученную модель для предсказания рейтинга ресторанов в тестовой выборке.\n",
    "# Предсказанные значения записываем в переменную y_pred\n",
    "y_pred = model.predict(X_test)"
   ]
  },
  {
   "cell_type": "code",
   "execution_count": 53,
   "metadata": {
    "execution": {
     "iopub.execute_input": "2021-05-30T00:13:01.245754Z",
     "iopub.status.busy": "2021-05-30T00:13:01.245424Z",
     "iopub.status.idle": "2021-05-30T00:13:01.252412Z",
     "shell.execute_reply": "2021-05-30T00:13:01.251210Z",
     "shell.execute_reply.started": "2021-05-30T00:13:01.245706Z"
    }
   },
   "outputs": [
    {
     "name": "stdout",
     "output_type": "stream",
     "text": [
      "MAE: 0.20859687500000001\n"
     ]
    }
   ],
   "source": [
    "# Сравниваем предсказанные значения (y_pred) с реальными (y_test), и смотрим насколько они в среднем отличаются\n",
    "# Метрика называется Mean Absolute Error (MAE) и показывает среднее отклонение предсказанных значений от фактических.\n",
    "print('MAE:', metrics.mean_absolute_error(y_test, y_pred))"
   ]
  },
  {
   "cell_type": "code",
   "execution_count": 54,
   "metadata": {
    "execution": {
     "iopub.execute_input": "2021-05-30T00:13:29.298310Z",
     "iopub.status.busy": "2021-05-30T00:13:29.297870Z",
     "iopub.status.idle": "2021-05-30T00:13:29.740555Z",
     "shell.execute_reply": "2021-05-30T00:13:29.739274Z",
     "shell.execute_reply.started": "2021-05-30T00:13:29.298270Z"
    }
   },
   "outputs": [
    {
     "data": {
      "text/plain": [
       "<matplotlib.axes._subplots.AxesSubplot at 0x7f941b2fa978>"
      ]
     },
     "execution_count": 54,
     "metadata": {},
     "output_type": "execute_result"
    },
    {
     "data": {
      "image/png": "[encoded data removed]",
      "text/plain": [
       "<Figure size 720x720 with 1 Axes>"
      ]
     },
     "metadata": {
      "needs_background": "light"
     },
     "output_type": "display_data"
    }
   ],
   "source": [
    "# в RandomForestRegressor есть возможность вывести самые важные признаки для модели\n",
    "plt.rcParams['figure.figsize'] = (10,10)\n",
    "feat_importances = pd.Series(model.feature_importances_, index=X.columns)\n",
    "feat_importances.nlargest(15).plot(kind='barh') "
   ]
  },
  {
   "cell_type": "markdown",
   "metadata": {},
   "source": [
    "# Submission\n",
    "Если все устраевает - готовим Submission на кагл"
   ]
  },
  {
   "cell_type": "code",
   "execution_count": 55,
   "metadata": {
    "execution": {
     "iopub.execute_input": "2021-05-30T00:14:11.074332Z",
     "iopub.status.busy": "2021-05-30T00:14:11.074028Z",
     "iopub.status.idle": "2021-05-30T00:14:11.103008Z",
     "shell.execute_reply": "2021-05-30T00:14:11.102065Z",
     "shell.execute_reply.started": "2021-05-30T00:14:11.074291Z"
    }
   },
   "outputs": [
    {
     "data": {
      "text/html": [
       "<div>\n",
       "<style scoped>\n",
       "    .dataframe tbody tr th:only-of-type {\n",
       "        vertical-align: middle;\n",
       "    }\n",
       "\n",
       "    .dataframe tbody tr th {\n",
       "        vertical-align: top;\n",
       "    }\n",
       "\n",
       "    .dataframe thead th {\n",
       "        text-align: right;\n",
       "    }\n",
       "</style>\n",
       "<table border=\"1\" class=\"dataframe\">\n",
       "  <thead>\n",
       "    <tr style=\"text-align: right;\">\n",
       "      <th></th>\n",
       "      <th>Price Range</th>\n",
       "      <th>Number of Reviews</th>\n",
       "      <th>Rating</th>\n",
       "      <th>Vegetarian Friendly</th>\n",
       "      <th>European</th>\n",
       "      <th>Cuisine_Style_Nan</th>\n",
       "      <th>Mediterranean</th>\n",
       "      <th>Italian</th>\n",
       "      <th>Vegan Options</th>\n",
       "      <th>Gluten Free Options</th>\n",
       "      <th>...</th>\n",
       "      <th>City_Oporto</th>\n",
       "      <th>City_Oslo</th>\n",
       "      <th>City_Paris</th>\n",
       "      <th>City_Prague</th>\n",
       "      <th>City_Rome</th>\n",
       "      <th>City_Stockholm</th>\n",
       "      <th>City_Vienna</th>\n",
       "      <th>City_Warsaw</th>\n",
       "      <th>City_Zurich</th>\n",
       "      <th>City_nan</th>\n",
       "    </tr>\n",
       "  </thead>\n",
       "  <tbody>\n",
       "    <tr>\n",
       "      <th>18809</th>\n",
       "      <td>1</td>\n",
       "      <td>54.0</td>\n",
       "      <td>0.0</td>\n",
       "      <td>0</td>\n",
       "      <td>0</td>\n",
       "      <td>0</td>\n",
       "      <td>0</td>\n",
       "      <td>1</td>\n",
       "      <td>0</td>\n",
       "      <td>0</td>\n",
       "      <td>...</td>\n",
       "      <td>0</td>\n",
       "      <td>0</td>\n",
       "      <td>0</td>\n",
       "      <td>0</td>\n",
       "      <td>1</td>\n",
       "      <td>0</td>\n",
       "      <td>0</td>\n",
       "      <td>0</td>\n",
       "      <td>0</td>\n",
       "      <td>0</td>\n",
       "    </tr>\n",
       "    <tr>\n",
       "      <th>43514</th>\n",
       "      <td>2</td>\n",
       "      <td>78.0</td>\n",
       "      <td>0.0</td>\n",
       "      <td>0</td>\n",
       "      <td>0</td>\n",
       "      <td>0</td>\n",
       "      <td>0</td>\n",
       "      <td>0</td>\n",
       "      <td>0</td>\n",
       "      <td>0</td>\n",
       "      <td>...</td>\n",
       "      <td>0</td>\n",
       "      <td>0</td>\n",
       "      <td>0</td>\n",
       "      <td>0</td>\n",
       "      <td>0</td>\n",
       "      <td>0</td>\n",
       "      <td>0</td>\n",
       "      <td>0</td>\n",
       "      <td>0</td>\n",
       "      <td>0</td>\n",
       "    </tr>\n",
       "    <tr>\n",
       "      <th>26296</th>\n",
       "      <td>1</td>\n",
       "      <td>15.0</td>\n",
       "      <td>0.0</td>\n",
       "      <td>0</td>\n",
       "      <td>0</td>\n",
       "      <td>0</td>\n",
       "      <td>0</td>\n",
       "      <td>0</td>\n",
       "      <td>0</td>\n",
       "      <td>0</td>\n",
       "      <td>...</td>\n",
       "      <td>0</td>\n",
       "      <td>0</td>\n",
       "      <td>0</td>\n",
       "      <td>1</td>\n",
       "      <td>0</td>\n",
       "      <td>0</td>\n",
       "      <td>0</td>\n",
       "      <td>0</td>\n",
       "      <td>0</td>\n",
       "      <td>0</td>\n",
       "    </tr>\n",
       "    <tr>\n",
       "      <th>29591</th>\n",
       "      <td>2</td>\n",
       "      <td>19.0</td>\n",
       "      <td>0.0</td>\n",
       "      <td>1</td>\n",
       "      <td>1</td>\n",
       "      <td>0</td>\n",
       "      <td>0</td>\n",
       "      <td>0</td>\n",
       "      <td>0</td>\n",
       "      <td>0</td>\n",
       "      <td>...</td>\n",
       "      <td>0</td>\n",
       "      <td>0</td>\n",
       "      <td>0</td>\n",
       "      <td>0</td>\n",
       "      <td>0</td>\n",
       "      <td>0</td>\n",
       "      <td>0</td>\n",
       "      <td>0</td>\n",
       "      <td>0</td>\n",
       "      <td>0</td>\n",
       "    </tr>\n",
       "    <tr>\n",
       "      <th>122</th>\n",
       "      <td>1</td>\n",
       "      <td>470.0</td>\n",
       "      <td>0.0</td>\n",
       "      <td>1</td>\n",
       "      <td>0</td>\n",
       "      <td>0</td>\n",
       "      <td>1</td>\n",
       "      <td>0</td>\n",
       "      <td>1</td>\n",
       "      <td>0</td>\n",
       "      <td>...</td>\n",
       "      <td>0</td>\n",
       "      <td>0</td>\n",
       "      <td>1</td>\n",
       "      <td>0</td>\n",
       "      <td>0</td>\n",
       "      <td>0</td>\n",
       "      <td>0</td>\n",
       "      <td>0</td>\n",
       "      <td>0</td>\n",
       "      <td>0</td>\n",
       "    </tr>\n",
       "    <tr>\n",
       "      <th>44652</th>\n",
       "      <td>1</td>\n",
       "      <td>128.0</td>\n",
       "      <td>0.0</td>\n",
       "      <td>1</td>\n",
       "      <td>0</td>\n",
       "      <td>0</td>\n",
       "      <td>1</td>\n",
       "      <td>0</td>\n",
       "      <td>0</td>\n",
       "      <td>0</td>\n",
       "      <td>...</td>\n",
       "      <td>0</td>\n",
       "      <td>0</td>\n",
       "      <td>0</td>\n",
       "      <td>0</td>\n",
       "      <td>0</td>\n",
       "      <td>0</td>\n",
       "      <td>0</td>\n",
       "      <td>0</td>\n",
       "      <td>0</td>\n",
       "      <td>0</td>\n",
       "    </tr>\n",
       "    <tr>\n",
       "      <th>45353</th>\n",
       "      <td>2</td>\n",
       "      <td>113.0</td>\n",
       "      <td>0.0</td>\n",
       "      <td>0</td>\n",
       "      <td>1</td>\n",
       "      <td>0</td>\n",
       "      <td>0</td>\n",
       "      <td>0</td>\n",
       "      <td>0</td>\n",
       "      <td>0</td>\n",
       "      <td>...</td>\n",
       "      <td>0</td>\n",
       "      <td>0</td>\n",
       "      <td>0</td>\n",
       "      <td>0</td>\n",
       "      <td>0</td>\n",
       "      <td>0</td>\n",
       "      <td>0</td>\n",
       "      <td>1</td>\n",
       "      <td>0</td>\n",
       "      <td>0</td>\n",
       "    </tr>\n",
       "    <tr>\n",
       "      <th>14992</th>\n",
       "      <td>3</td>\n",
       "      <td>82.0</td>\n",
       "      <td>0.0</td>\n",
       "      <td>0</td>\n",
       "      <td>0</td>\n",
       "      <td>0</td>\n",
       "      <td>0</td>\n",
       "      <td>0</td>\n",
       "      <td>0</td>\n",
       "      <td>0</td>\n",
       "      <td>...</td>\n",
       "      <td>0</td>\n",
       "      <td>0</td>\n",
       "      <td>0</td>\n",
       "      <td>0</td>\n",
       "      <td>0</td>\n",
       "      <td>0</td>\n",
       "      <td>0</td>\n",
       "      <td>0</td>\n",
       "      <td>0</td>\n",
       "      <td>0</td>\n",
       "    </tr>\n",
       "    <tr>\n",
       "      <th>19014</th>\n",
       "      <td>2</td>\n",
       "      <td>145.0</td>\n",
       "      <td>0.0</td>\n",
       "      <td>1</td>\n",
       "      <td>0</td>\n",
       "      <td>0</td>\n",
       "      <td>0</td>\n",
       "      <td>0</td>\n",
       "      <td>1</td>\n",
       "      <td>1</td>\n",
       "      <td>...</td>\n",
       "      <td>0</td>\n",
       "      <td>0</td>\n",
       "      <td>0</td>\n",
       "      <td>0</td>\n",
       "      <td>1</td>\n",
       "      <td>0</td>\n",
       "      <td>0</td>\n",
       "      <td>0</td>\n",
       "      <td>0</td>\n",
       "      <td>0</td>\n",
       "    </tr>\n",
       "    <tr>\n",
       "      <th>8357</th>\n",
       "      <td>1</td>\n",
       "      <td>684.0</td>\n",
       "      <td>0.0</td>\n",
       "      <td>1</td>\n",
       "      <td>0</td>\n",
       "      <td>0</td>\n",
       "      <td>0</td>\n",
       "      <td>0</td>\n",
       "      <td>1</td>\n",
       "      <td>0</td>\n",
       "      <td>...</td>\n",
       "      <td>0</td>\n",
       "      <td>0</td>\n",
       "      <td>0</td>\n",
       "      <td>0</td>\n",
       "      <td>0</td>\n",
       "      <td>0</td>\n",
       "      <td>0</td>\n",
       "      <td>0</td>\n",
       "      <td>0</td>\n",
       "      <td>0</td>\n",
       "    </tr>\n",
       "  </tbody>\n",
       "</table>\n",
       "<p>10 rows × 59 columns</p>\n",
       "</div>"
      ],
      "text/plain": [
       "       Price Range  Number of Reviews  Rating  Vegetarian Friendly  European  \\\n",
       "18809            1               54.0     0.0                    0         0   \n",
       "43514            2               78.0     0.0                    0         0   \n",
       "26296            1               15.0     0.0                    0         0   \n",
       "29591            2               19.0     0.0                    1         1   \n",
       "122              1              470.0     0.0                    1         0   \n",
       "44652            1              128.0     0.0                    1         0   \n",
       "45353            2              113.0     0.0                    0         1   \n",
       "14992            3               82.0     0.0                    0         0   \n",
       "19014            2              145.0     0.0                    1         0   \n",
       "8357             1              684.0     0.0                    1         0   \n",
       "\n",
       "       Cuisine_Style_Nan  Mediterranean  Italian  Vegan Options  \\\n",
       "18809                  0              0        1              0   \n",
       "43514                  0              0        0              0   \n",
       "26296                  0              0        0              0   \n",
       "29591                  0              0        0              0   \n",
       "122                    0              1        0              1   \n",
       "44652                  0              1        0              0   \n",
       "45353                  0              0        0              0   \n",
       "14992                  0              0        0              0   \n",
       "19014                  0              0        0              1   \n",
       "8357                   0              0        0              1   \n",
       "\n",
       "       Gluten Free Options  ...  City_Oporto  City_Oslo  City_Paris  \\\n",
       "18809                    0  ...            0          0           0   \n",
       "43514                    0  ...            0          0           0   \n",
       "26296                    0  ...            0          0           0   \n",
       "29591                    0  ...            0          0           0   \n",
       "122                      0  ...            0          0           1   \n",
       "44652                    0  ...            0          0           0   \n",
       "45353                    0  ...            0          0           0   \n",
       "14992                    0  ...            0          0           0   \n",
       "19014                    1  ...            0          0           0   \n",
       "8357                     0  ...            0          0           0   \n",
       "\n",
       "       City_Prague  City_Rome  City_Stockholm  City_Vienna  City_Warsaw  \\\n",
       "18809            0          1               0            0            0   \n",
       "43514            0          0               0            0            0   \n",
       "26296            1          0               0            0            0   \n",
       "29591            0          0               0            0            0   \n",
       "122              0          0               0            0            0   \n",
       "44652            0          0               0            0            0   \n",
       "45353            0          0               0            0            1   \n",
       "14992            0          0               0            0            0   \n",
       "19014            0          1               0            0            0   \n",
       "8357             0          0               0            0            0   \n",
       "\n",
       "       City_Zurich  City_nan  \n",
       "18809            0         0  \n",
       "43514            0         0  \n",
       "26296            0         0  \n",
       "29591            0         0  \n",
       "122              0         0  \n",
       "44652            0         0  \n",
       "45353            0         0  \n",
       "14992            0         0  \n",
       "19014            0         0  \n",
       "8357             0         0  \n",
       "\n",
       "[10 rows x 59 columns]"
      ]
     },
     "execution_count": 55,
     "metadata": {},
     "output_type": "execute_result"
    }
   ],
   "source": [
    "test_data.sample(10)"
   ]
  },
  {
   "cell_type": "code",
   "execution_count": 56,
   "metadata": {
    "execution": {
     "iopub.execute_input": "2021-05-30T00:17:14.945399Z",
     "iopub.status.busy": "2021-05-30T00:17:14.945023Z",
     "iopub.status.idle": "2021-05-30T00:17:14.952952Z",
     "shell.execute_reply": "2021-05-30T00:17:14.952125Z",
     "shell.execute_reply.started": "2021-05-30T00:17:14.945333Z"
    }
   },
   "outputs": [],
   "source": [
    "test_data = test_data.drop(['Rating'], axis=1)"
   ]
  },
  {
   "cell_type": "code",
   "execution_count": 57,
   "metadata": {
    "execution": {
     "iopub.execute_input": "2021-05-30T00:17:17.685631Z",
     "iopub.status.busy": "2021-05-30T00:17:17.685204Z",
     "iopub.status.idle": "2021-05-30T00:17:17.699003Z",
     "shell.execute_reply": "2021-05-30T00:17:17.698125Z",
     "shell.execute_reply.started": "2021-05-30T00:17:17.685567Z"
    }
   },
   "outputs": [
    {
     "data": {
      "text/html": [
       "<div>\n",
       "<style scoped>\n",
       "    .dataframe tbody tr th:only-of-type {\n",
       "        vertical-align: middle;\n",
       "    }\n",
       "\n",
       "    .dataframe tbody tr th {\n",
       "        vertical-align: top;\n",
       "    }\n",
       "\n",
       "    .dataframe thead th {\n",
       "        text-align: right;\n",
       "    }\n",
       "</style>\n",
       "<table border=\"1\" class=\"dataframe\">\n",
       "  <thead>\n",
       "    <tr style=\"text-align: right;\">\n",
       "      <th></th>\n",
       "      <th>Restaurant_id</th>\n",
       "      <th>Rating</th>\n",
       "    </tr>\n",
       "  </thead>\n",
       "  <tbody>\n",
       "    <tr>\n",
       "      <th>0</th>\n",
       "      <td>id_0</td>\n",
       "      <td>2.0</td>\n",
       "    </tr>\n",
       "    <tr>\n",
       "      <th>1</th>\n",
       "      <td>id_1</td>\n",
       "      <td>2.5</td>\n",
       "    </tr>\n",
       "    <tr>\n",
       "      <th>2</th>\n",
       "      <td>id_2</td>\n",
       "      <td>4.0</td>\n",
       "    </tr>\n",
       "    <tr>\n",
       "      <th>3</th>\n",
       "      <td>id_3</td>\n",
       "      <td>1.0</td>\n",
       "    </tr>\n",
       "    <tr>\n",
       "      <th>4</th>\n",
       "      <td>id_4</td>\n",
       "      <td>4.0</td>\n",
       "    </tr>\n",
       "    <tr>\n",
       "      <th>...</th>\n",
       "      <td>...</td>\n",
       "      <td>...</td>\n",
       "    </tr>\n",
       "    <tr>\n",
       "      <th>9995</th>\n",
       "      <td>id_9995</td>\n",
       "      <td>3.0</td>\n",
       "    </tr>\n",
       "    <tr>\n",
       "      <th>9996</th>\n",
       "      <td>id_9996</td>\n",
       "      <td>1.5</td>\n",
       "    </tr>\n",
       "    <tr>\n",
       "      <th>9997</th>\n",
       "      <td>id_9997</td>\n",
       "      <td>4.5</td>\n",
       "    </tr>\n",
       "    <tr>\n",
       "      <th>9998</th>\n",
       "      <td>id_9998</td>\n",
       "      <td>1.0</td>\n",
       "    </tr>\n",
       "    <tr>\n",
       "      <th>9999</th>\n",
       "      <td>id_9999</td>\n",
       "      <td>2.5</td>\n",
       "    </tr>\n",
       "  </tbody>\n",
       "</table>\n",
       "<p>10000 rows × 2 columns</p>\n",
       "</div>"
      ],
      "text/plain": [
       "     Restaurant_id  Rating\n",
       "0             id_0     2.0\n",
       "1             id_1     2.5\n",
       "2             id_2     4.0\n",
       "3             id_3     1.0\n",
       "4             id_4     4.0\n",
       "...            ...     ...\n",
       "9995       id_9995     3.0\n",
       "9996       id_9996     1.5\n",
       "9997       id_9997     4.5\n",
       "9998       id_9998     1.0\n",
       "9999       id_9999     2.5\n",
       "\n",
       "[10000 rows x 2 columns]"
      ]
     },
     "execution_count": 57,
     "metadata": {},
     "output_type": "execute_result"
    }
   ],
   "source": [
    "sample_submission"
   ]
  },
  {
   "cell_type": "code",
   "execution_count": 58,
   "metadata": {
    "execution": {
     "iopub.execute_input": "2021-05-30T00:17:27.661613Z",
     "iopub.status.busy": "2021-05-30T00:17:27.661152Z",
     "iopub.status.idle": "2021-05-30T00:17:27.773319Z",
     "shell.execute_reply": "2021-05-30T00:17:27.772238Z",
     "shell.execute_reply.started": "2021-05-30T00:17:27.661570Z"
    }
   },
   "outputs": [
    {
     "name": "stderr",
     "output_type": "stream",
     "text": [
      "[Parallel(n_jobs=4)]: Using backend ThreadingBackend with 4 concurrent workers.\n",
      "[Parallel(n_jobs=4)]: Done  42 tasks      | elapsed:    0.1s\n",
      "[Parallel(n_jobs=4)]: Done 100 out of 100 | elapsed:    0.1s finished\n"
     ]
    }
   ],
   "source": [
    "predict_submission = model.predict(test_data)"
   ]
  },
  {
   "cell_type": "code",
   "execution_count": 59,
   "metadata": {
    "execution": {
     "iopub.execute_input": "2021-05-30T00:17:30.999531Z",
     "iopub.status.busy": "2021-05-30T00:17:30.999216Z",
     "iopub.status.idle": "2021-05-30T00:17:31.007531Z",
     "shell.execute_reply": "2021-05-30T00:17:31.006423Z",
     "shell.execute_reply.started": "2021-05-30T00:17:30.999461Z"
    }
   },
   "outputs": [
    {
     "data": {
      "text/plain": [
       "array([3.43 , 4.375, 3.125, ..., 3.95 , 4.075, 4.31 ])"
      ]
     },
     "execution_count": 59,
     "metadata": {},
     "output_type": "execute_result"
    }
   ],
   "source": [
    "predict_submission"
   ]
  },
  {
   "cell_type": "code",
   "execution_count": 60,
   "metadata": {
    "execution": {
     "iopub.execute_input": "2021-05-30T00:17:37.567538Z",
     "iopub.status.busy": "2021-05-30T00:17:37.567220Z",
     "iopub.status.idle": "2021-05-30T00:17:38.041006Z",
     "shell.execute_reply": "2021-05-30T00:17:38.040019Z",
     "shell.execute_reply.started": "2021-05-30T00:17:37.567492Z"
    }
   },
   "outputs": [
    {
     "data": {
      "text/html": [
       "<div>\n",
       "<style scoped>\n",
       "    .dataframe tbody tr th:only-of-type {\n",
       "        vertical-align: middle;\n",
       "    }\n",
       "\n",
       "    .dataframe tbody tr th {\n",
       "        vertical-align: top;\n",
       "    }\n",
       "\n",
       "    .dataframe thead th {\n",
       "        text-align: right;\n",
       "    }\n",
       "</style>\n",
       "<table border=\"1\" class=\"dataframe\">\n",
       "  <thead>\n",
       "    <tr style=\"text-align: right;\">\n",
       "      <th></th>\n",
       "      <th>Restaurant_id</th>\n",
       "      <th>Rating</th>\n",
       "    </tr>\n",
       "  </thead>\n",
       "  <tbody>\n",
       "    <tr>\n",
       "      <th>0</th>\n",
       "      <td>id_0</td>\n",
       "      <td>3.430</td>\n",
       "    </tr>\n",
       "    <tr>\n",
       "      <th>1</th>\n",
       "      <td>id_1</td>\n",
       "      <td>4.375</td>\n",
       "    </tr>\n",
       "    <tr>\n",
       "      <th>2</th>\n",
       "      <td>id_2</td>\n",
       "      <td>3.125</td>\n",
       "    </tr>\n",
       "    <tr>\n",
       "      <th>3</th>\n",
       "      <td>id_3</td>\n",
       "      <td>4.880</td>\n",
       "    </tr>\n",
       "    <tr>\n",
       "      <th>4</th>\n",
       "      <td>id_4</td>\n",
       "      <td>4.550</td>\n",
       "    </tr>\n",
       "    <tr>\n",
       "      <th>5</th>\n",
       "      <td>id_5</td>\n",
       "      <td>3.705</td>\n",
       "    </tr>\n",
       "    <tr>\n",
       "      <th>6</th>\n",
       "      <td>id_6</td>\n",
       "      <td>3.870</td>\n",
       "    </tr>\n",
       "    <tr>\n",
       "      <th>7</th>\n",
       "      <td>id_7</td>\n",
       "      <td>2.930</td>\n",
       "    </tr>\n",
       "    <tr>\n",
       "      <th>8</th>\n",
       "      <td>id_8</td>\n",
       "      <td>3.245</td>\n",
       "    </tr>\n",
       "    <tr>\n",
       "      <th>9</th>\n",
       "      <td>id_9</td>\n",
       "      <td>3.805</td>\n",
       "    </tr>\n",
       "  </tbody>\n",
       "</table>\n",
       "</div>"
      ],
      "text/plain": [
       "  Restaurant_id  Rating\n",
       "0          id_0   3.430\n",
       "1          id_1   4.375\n",
       "2          id_2   3.125\n",
       "3          id_3   4.880\n",
       "4          id_4   4.550\n",
       "5          id_5   3.705\n",
       "6          id_6   3.870\n",
       "7          id_7   2.930\n",
       "8          id_8   3.245\n",
       "9          id_9   3.805"
      ]
     },
     "execution_count": 60,
     "metadata": {},
     "output_type": "execute_result"
    }
   ],
   "source": [
    "sample_submission['Rating'] = predict_submission\n",
    "sample_submission.to_csv('submission.csv', index=False)\n",
    "sample_submission.head(10)"
   ]
  },
  {
   "cell_type": "markdown",
   "metadata": {},
   "source": [
    "# What's next?\n",
    "Или что делать, чтоб улучшить результат: \n",
    "* Обработать оставшиеся признаки в понятный для машины формат\n",
    "* Посмотреть, что еще можно извлечь из признаков\n",
    "* Сгенерировать новые признаки\n",
    "* Подгрузить дополнительные данные, например: по населению или благосостоянию городов\n",
    "* Подобрать состав признаков\n",
    "\n",
    "В общем, процесс творческий и весьма увлекательный! Удачи в соревновании!\n"
   ]
  },
  {
   "cell_type": "code",
   "execution_count": null,
   "metadata": {},
   "outputs": [],
   "source": []
  }
 ],
 "metadata": {
  "kernelspec": {
   "display_name": "Python 3",
   "language": "python",
   "name": "python3"
  },
  "language_info": {
   "codemirror_mode": {
    "name": "ipython",
    "version": 3
   },
   "file_extension": ".py",
   "mimetype": "text/x-python",
   "name": "python",
   "nbconvert_exporter": "python",
   "pygments_lexer": "ipython3",
   "version": "3.6.6"
  }
 },
 "nbformat": 4,
 "nbformat_minor": 4
}
